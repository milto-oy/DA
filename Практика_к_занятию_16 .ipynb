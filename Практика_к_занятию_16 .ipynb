{
 "cells": [
  {
   "cell_type": "markdown",
   "metadata": {
    "id": "pDrecLU-4QjS"
   },
   "source": [
    "# Практика"
   ]
  },
  {
   "cell_type": "code",
   "execution_count": 2,
   "metadata": {},
   "outputs": [],
   "source": [
    "import pandas as pd\n",
    "import numpy as np\n",
    "import matplotlib.pyplot as plt\n",
    "from random import *\n",
    "import scipy.stats as sts\n",
    "from itertools import product\n",
    "import warnings\n",
    "warnings.filterwarnings('ignore')\n",
    "from fractions import Fraction"
   ]
  },
  {
   "cell_type": "markdown",
   "metadata": {
    "id": "gUvTNDlMaV-a"
   },
   "source": [
    "## Определение вероятности. События\n",
    "\n",
    "Требуется сгенерировать необходимые выборки и произвести по ним расчеты"
   ]
  },
  {
   "cell_type": "markdown",
   "metadata": {
    "id": "5V70InEBTgup"
   },
   "source": [
    "### Задача 1\n",
    "Брошено две монеты. Найти вероятность того, что монеты выпали разными сторонами"
   ]
  },
  {
   "cell_type": "code",
   "execution_count": 134,
   "metadata": {},
   "outputs": [
    {
     "name": "stdout",
     "output_type": "stream",
     "text": [
      "Ответ: Р = 0.50086\n"
     ]
    }
   ],
   "source": [
    "# Моделирование: 100 тыс бросков 2х монет, и\n",
    "# подсчет вероятностей по формуле \"результат/кол-во экспериментов\"\n",
    "\n",
    "n = 10**5\n",
    "count = 0\n",
    "\n",
    "for toss in range(n):\n",
    "    coin1, coin2 = [choice(['Орел','Решка']) for _ in range(2)]\n",
    "    if coin1 != coin2:\n",
    "        count +=1\n",
    "\n",
    "print(f'Ответ: Р = {count/n}')"
   ]
  },
  {
   "cell_type": "markdown",
   "metadata": {
    "id": "t0XOMos2Tl0e"
   },
   "source": [
    "### Задача 2\n",
    "Брошено три монеты. Описать множество всех элементарных событий. Найти вероятности следующих событий:\n",
    "\n",
    "\n",
    "1.   A = {не выпало ни одного герба}\n",
    "2.   B = {выпало четное число гербов}\n",
    "3.   C = {на третьей монете выпал герб}\n"
   ]
  },
  {
   "cell_type": "code",
   "execution_count": 138,
   "metadata": {
    "id": "o7NjAE9uUo-L"
   },
   "outputs": [
    {
     "name": "stdout",
     "output_type": "stream",
     "text": [
      "Множество всех элементарных событий для именованных монет:\n",
      "('Орел', 'Орел', 'Орел')\n",
      "('Орел', 'Орел', 'Решка')\n",
      "('Орел', 'Решка', 'Орел')\n",
      "('Орел', 'Решка', 'Решка')\n",
      "('Решка', 'Орел', 'Орел')\n",
      "('Решка', 'Орел', 'Решка')\n",
      "('Решка', 'Решка', 'Орел')\n",
      "('Решка', 'Решка', 'Решка')\n",
      "Количество:\n",
      "8\n",
      "\n",
      "P(A) = 0.12543\n",
      "P(B) = 0.37632\n",
      "P(C) = 0.24858\n"
     ]
    }
   ],
   "source": [
    "# Моделирование: 100 тыс бросков 3х монет и\n",
    "# определение уникальных событий(множество всех элементарных событий)\n",
    "# и подсчет вероятностей: P(A),P(B),P(C) по формуле \"результат/кол-во экспериментов\"\n",
    "\n",
    "n = 10**5\n",
    "coin = ['Орел','Решка']\n",
    "lst_all_toss_register = []\n",
    "A,B,C = 0,0,0\n",
    "for toss in range(n):\n",
    "    coin1, coin2, coin3 = [choice(coin) for _ in range(3)]\n",
    "    lst_temp = [coin1, coin2, coin3]\n",
    "    lst_all_toss_register.append((coin1, coin2, coin3))\n",
    "    \n",
    "    if all([coin1 == coin[1], coin2 == coin[1], coin3 == coin[1]]):\n",
    "        A += 1\n",
    "    elif lst_temp.count('Орел') == 2:\n",
    "        B += 1\n",
    "    elif coin3 == 'Орел':\n",
    "        C += 1\n",
    "print(f'Множество всех элементарных событий для именованных монет:',*sorted(set(lst_all_toss_register)), 'Количество:', len(set(lst_all_toss_register)), sep='\\n')\n",
    "print()\n",
    "print(f'P(A) = {A/n}')\n",
    "print(f'P(B) = {B/n}')\n",
    "print(f'P(C) = {C/n}')"
   ]
  },
  {
   "cell_type": "markdown",
   "metadata": {},
   "source": [
    "Предлагается также решить задачи: \n",
    "\n",
    "### Задача 3\n",
    "Из двух претендентов E и L на ответственную должность три члена комиссии должны отобрать одного. Каждый член комиссии должен указать либо одного достойного, либо забраковать обоих. Претендент считается выбранным, если он был признан достойным хотя бы двумя членами комиссии.\n",
    "Найти вероятность событий:\n",
    "\n",
    "A = {рекомендован L}, B = {рекомендован E}\n"
   ]
  },
  {
   "cell_type": "code",
   "execution_count": 147,
   "metadata": {},
   "outputs": [
    {
     "name": "stdout",
     "output_type": "stream",
     "text": [
      "P(A) = 0.26051\n",
      "P(B) = 0.2572\n"
     ]
    }
   ],
   "source": [
    "# Моделирование: 100 тыс выборов\n",
    "# и подсчет вероятностей: P(A),P(B),P(C) по формуле \"результат/кол-во экспериментов\"\n",
    "\n",
    "\n",
    "n = 10**5\n",
    "choices = ['L','E','no one']\n",
    "A,B = 0,0\n",
    "for toss in range(n):\n",
    "    commissioner_1, commissioner_2, commissioner_3 = [choice(choices) for _ in range(3)]\n",
    "    lst_temp = [commissioner_1, commissioner_2, commissioner_3]\n",
    "    if lst_temp.count('L') >= 2:\n",
    "        A += 1\n",
    "    elif lst_temp.count('E') >= 2:\n",
    "        B += 1\n",
    "print(f'P(A) = {A/n}')\n",
    "print(f'P(B) = {B/n}')"
   ]
  },
  {
   "cell_type": "markdown",
   "metadata": {
    "id": "peM38mVfYa5B"
   },
   "source": [
    "### Задача 4\n",
    "Брошено две игральных кости. Описать множество элементарных событий. Найти вероятности событий:\n",
    "\n",
    "A = {вышло две \"шестерки\"}\n",
    "\n",
    "B = {сумма выпавших очков не меньше 11}\n",
    "\n",
    "C = {не выпала ни одна \"шестерка\"}"
   ]
  },
  {
   "cell_type": "code",
   "execution_count": 17,
   "metadata": {},
   "outputs": [
    {
     "name": "stdout",
     "output_type": "stream",
     "text": [
      "Множество всех элементарных событий =\n",
      "(1, 1)\n",
      "(1, 2)\n",
      "(1, 3)\n",
      "(1, 4)\n",
      "(1, 5)\n",
      "(1, 6)\n",
      "(2, 1)\n",
      "(2, 2)\n",
      "(2, 3)\n",
      "(2, 4)\n",
      "(2, 5)\n",
      "(2, 6)\n",
      "(3, 1)\n",
      "(3, 2)\n",
      "(3, 3)\n",
      "(3, 4)\n",
      "(3, 5)\n",
      "(3, 6)\n",
      "(4, 1)\n",
      "(4, 2)\n",
      "(4, 3)\n",
      "(4, 4)\n",
      "(4, 5)\n",
      "(4, 6)\n",
      "(5, 1)\n",
      "(5, 2)\n",
      "(5, 3)\n",
      "(5, 4)\n",
      "(5, 5)\n",
      "(5, 6)\n",
      "(6, 1)\n",
      "(6, 2)\n",
      "(6, 3)\n",
      "(6, 4)\n",
      "(6, 5)\n",
      "(6, 6)\n",
      "Количество:\n",
      "36\n",
      "\n",
      "P(A) = 0.02769\n",
      "P(B) = 0.05691\n",
      "P(C) = 0.69543\n"
     ]
    }
   ],
   "source": [
    "# Моделирование: 100 тыс бросков 2х игральных костей и\n",
    "# определение уникальных событий(множество всех элементарных событий)\n",
    "# и подсчет вероятностей: P(A),P(B),P(C) по формуле \"результат/кол-во экспериментов\"\n",
    "\n",
    "n = 10**5\n",
    "lst_all_toss_register = []\n",
    "dice_facets = [1,2,3,4,5,6]\n",
    "A,B,C = 0,0,0\n",
    "for toss in range(n):\n",
    "    dice1, dice2 = [choice(dice_facets) for _ in range(2)]\n",
    "    lst_temp = [dice1, dice2]\n",
    "    lst_all_toss_register.append((dice1, dice2))\n",
    "    if lst_temp.count(6) == 2:\n",
    "        A += 1\n",
    "    elif sum(lst_temp) >= 11:\n",
    "        B += 1\n",
    "    elif 6 not in lst_temp:\n",
    "        C += 1\n",
    "print(f'Множество всех элементарных событий =',*sorted(set(lst_all_toss_register)), 'Количество:', len(set(lst_all_toss_register)), sep='\\n')\n",
    "print()\n",
    "print(f'P(A) = {A/n}')\n",
    "print(f'P(B) = {B/n}')\n",
    "print(f'P(C) = {C/n}')"
   ]
  },
  {
   "cell_type": "markdown",
   "metadata": {
    "id": "f-Bi0p8haclB"
   },
   "source": [
    "## Вероятность суммы событий"
   ]
  },
  {
   "cell_type": "markdown",
   "metadata": {
    "id": "g7A7QlvGTnwZ"
   },
   "source": [
    "### Задача 5\n",
    "Брошены две игральные кости. Найти вероятность события D = {выпала хотя бы одна шестёрка}\n"
   ]
  },
  {
   "cell_type": "code",
   "execution_count": 140,
   "metadata": {
    "id": "vjtTJN-kUp9D"
   },
   "outputs": [
    {
     "name": "stdout",
     "output_type": "stream",
     "text": [
      "P(D) = 0.3086\n"
     ]
    }
   ],
   "source": [
    "n = 10**5\n",
    "dice_facets = [1,2,3,4,5,6]\n",
    "D = 0\n",
    "for toss in range(n):\n",
    "    dice1, dice2 = [choice(dice_facets) for _ in range(2)]\n",
    "    lst_temp = [dice1, dice2]\n",
    "    if 6 in lst_temp:\n",
    "        D += 1\n",
    "\n",
    "print(f'P(D) = {D/n}')"
   ]
  },
  {
   "cell_type": "markdown",
   "metadata": {
    "id": "R1bYSzQQbC6I"
   },
   "source": [
    "Предлагается также решить задачи: \n",
    "\n",
    "### Задача 6\n",
    "В телефонном номере три последние цифры стерлись. Считая, что все возможные значения стершихся цифр равновероятны, найти вероятность событий:\n",
    "\n",
    "A = {Стерлись различные цифры},\n",
    "\n",
    "B = {Стерлись одинаковые цифры},\n",
    "\n",
    "C = {Среди стершихся цифр хотя бы две совпадают},\n",
    "\n",
    "D = {Среди стершихся цифр хотя бы две различны}\n"
   ]
  },
  {
   "cell_type": "code",
   "execution_count": 11,
   "metadata": {},
   "outputs": [
    {
     "name": "stdout",
     "output_type": "stream",
     "text": [
      "P(A) = 0.71629\n",
      "P(B) = 0.01013\n",
      "P(C) = 0.28371\n",
      "P(D) = 0.98987\n"
     ]
    }
   ],
   "source": [
    "n = 10**5\n",
    "numbers = [int(num) for num in range(10)]\n",
    "A, B, C, D = 0,0,0,0\n",
    "for toss in range(n):\n",
    "    num1, num2, num3 = [choice(numbers) for _ in range(3)]\n",
    "    lst_temp = [num1, num2, num3]\n",
    "    if len(set(lst_temp)) == 3:\n",
    "        A += 1\n",
    "    if len(set(lst_temp)) == 1:\n",
    "        B += 1\n",
    "    if len(set(lst_temp)) <= 2:\n",
    "        C += 1\n",
    "    if len(set(lst_temp)) >= 2:\n",
    "        D += 1\n",
    "\n",
    "print(f'P(A) = {A/n}')\n",
    "print(f'P(B) = {B/n}')\n",
    "print(f'P(C) = {C/n}')\n",
    "print(f'P(D) = {D/n}')"
   ]
  },
  {
   "cell_type": "markdown",
   "metadata": {
    "id": "RnugkR8BalK_"
   },
   "source": [
    "## Случайные величины"
   ]
  },
  {
   "cell_type": "markdown",
   "metadata": {
    "id": "yLoZDZ17UVsp"
   },
   "source": [
    "### Задача 7\n",
    "В лотерее имеется 10 билетов, из которых один выигрышный. Размер выигрыша 10 ден. ед.; стоимость билета 1 ден ед. Найти закон распределения случайной величины X, равной чистому выигрышу участника лотереи, который вытаскивает билет первым."
   ]
  },
  {
   "cell_type": "code",
   "execution_count": 89,
   "metadata": {
    "id": "oNk432sKUqzT"
   },
   "outputs": [
    {
     "name": "stdout",
     "output_type": "stream",
     "text": [
      "Р(Х=9) = 0.10016\n",
      "Р(Х=-1) = 0.89984\n"
     ]
    }
   ],
   "source": [
    "# Не понимаю условие задачи. Что от меня требуется? Что значит найти закон?\n",
    "# Сколько билетов покупает/вытаскивает первый участник лотереи? 1?\n",
    "# Что моделировать?\n",
    "# Если моделируем, что он покупает/вытаскивает 1 билет, то:\n",
    "\n",
    "n = 10**5\n",
    "tickets = [int(_) for _ in range(10)]\n",
    "result_register = []\n",
    "\n",
    "for toss in range(n):\n",
    "    win_ticket = choice(tickets)\n",
    "    customer_ticket = choice(tickets)\n",
    "    if customer_ticket == win_ticket:\n",
    "        result_register.append(10-1)\n",
    "    else:\n",
    "        result_register.append(0-1)\n",
    "        \n",
    "print(f'Р(Х=9) = {result_register.count(9)/n}')\n",
    "print(f'Р(Х=-1) = {result_register.count(-1)/n}')\n",
    "\n",
    "\n",
    "\n",
    "#(Черновики)\n",
    "#possible_profit = [9, -1]\n",
    "#P = [1/10, 9/10]\n",
    "#X_p = {9: P[0], -1: P[1]}\n",
    "#X_DF = pd.DataFrame(P, index=('P(x=9)','P(x=-1)'), columns=['1st ticket'])\n",
    "#X_DF"
   ]
  },
  {
   "cell_type": "code",
   "execution_count": 154,
   "metadata": {},
   "outputs": [
    {
     "name": "stdout",
     "output_type": "stream",
     "text": [
      "P(X=9) = 0.09995\n",
      "P(X=8) = 0.10003\n",
      "P(X=7) = 0.09914\n",
      "P(X=6) = 0.10174\n",
      "P(X=5) = 0.09985\n",
      "P(X=4) = 0.09988\n",
      "P(X=3) = 0.09975\n",
      "P(X=2) = 0.10032\n",
      "P(X=1) = 0.09917\n",
      "P(X=0) = 0.10017\n"
     ]
    }
   ],
   "source": [
    "# Если  моделируем, что игроку покупает/вытаскивает билеты до тех пор \n",
    "# пока не вытащит выигрышный, или не скупит лот, то:\n",
    "\n",
    "n = 10**5\n",
    "\n",
    "purchased_tickets_and_wins = dict()\n",
    "for wins in range(0,10):\n",
    "    purchased_tickets_and_wins[wins] = 0\n",
    "\n",
    "for player in range(n):\n",
    "    win = 0\n",
    "    bought_tickets = 0\n",
    "    tickets = [int(_) for _ in range(10)]\n",
    "    win_ticket = choice(tickets)\n",
    "    \n",
    "    for buy in range(10):\n",
    "        customer_ticket = choice(tickets)\n",
    "        tickets.remove(customer_ticket)\n",
    "        bought_tickets += 1\n",
    "        win -= 1\n",
    "        if customer_ticket == win_ticket:\n",
    "            win += 10\n",
    "            break\n",
    "        else:\n",
    "            continue\n",
    "    purchased_tickets_and_wins[win] +=1\n",
    "\n",
    "for k,v in sorted(purchased_tickets_and_wins.items(), reverse=True):\n",
    "    print(f'P(X={k}) = {v/n}')"
   ]
  },
  {
   "cell_type": "markdown",
   "metadata": {
    "id": "U-NK9liSbpvb"
   },
   "source": [
    "### Задача 8\n",
    "Брошены две игральные кости. Найти закон распределения случайной величины $X$, равной сумме выпавших очков. Найти вероятности событий ${X <= 4}$, ${X > 4}$"
   ]
  },
  {
   "cell_type": "code",
   "execution_count": 155,
   "metadata": {},
   "outputs": [
    {
     "name": "stdout",
     "output_type": "stream",
     "text": [
      "P(X<=4) = 0.16816\n",
      "P(X>4) = 0.83184\n",
      "\n",
      "Распределения случайной величины 𝑋, равной сумме выпавших очков:\n",
      "2     0.02803\n",
      "3     0.05592\n",
      "4     0.08421\n",
      "5     0.11149\n",
      "6     0.14023\n",
      "7     0.16591\n",
      "8     0.13813\n",
      "9     0.11100\n",
      "10    0.08226\n",
      "11    0.05453\n",
      "12    0.02829\n",
      "dtype: float64\n"
     ]
    }
   ],
   "source": [
    "n = 10**5\n",
    "dice_facets = [1,2,3,4,5,6]\n",
    "\n",
    "two_dice_results = [int(_) for _ in range(2,13)]\n",
    "game_results = dict()\n",
    "for result in two_dice_results:\n",
    "    game_results[result] = 0\n",
    "A,B = 0,0\n",
    "lst_all_toss_register = []\n",
    "\n",
    "for toss in range(n):\n",
    "    dice1, dice2 = [choice(dice_facets) for _ in range(2)]\n",
    "    lst_temp = [dice1, dice2]\n",
    "    lst_all_toss_register.append((dice1, dice2))\n",
    "    game_results[sum(lst_temp)] += 1 \n",
    "    if sum(lst_temp) <= 4:\n",
    "        A += 1\n",
    "    elif sum(lst_temp) > 4:\n",
    "        B += 1\n",
    "        \n",
    "print(f'P(X<=4) = {A/n}')\n",
    "print(f'P(X>4) = {B/n}')\n",
    "print()\n",
    "print('Распределения случайной величины 𝑋, равной сумме выпавших очков:')\n",
    "results = pd.Series(game_results).apply(lambda num: num/n)\n",
    "print(results)"
   ]
  },
  {
   "cell_type": "markdown",
   "metadata": {
    "id": "shgW4D83awjK"
   },
   "source": [
    "## Условные вероятности"
   ]
  },
  {
   "cell_type": "markdown",
   "metadata": {
    "id": "Fbu1RFZwWZrk"
   },
   "source": [
    "### Задача 9\n",
    "Из колоды (36 карт) вынимают последовательно без возвращения две карты. Найти вероятность того, что первой картой была шестерка, а второй — семерка. Найти условную вероятность того же события при условии, что обе карты бубновой масти.\n"
   ]
  },
  {
   "cell_type": "code",
   "execution_count": 119,
   "metadata": {
    "id": "037o56awW9-E"
   },
   "outputs": [
    {
     "name": "stdout",
     "output_type": "stream",
     "text": [
      "P(6|7) = 0.01262\n",
      "P(6♦|7♦) = 0.00086\n"
     ]
    }
   ],
   "source": [
    "n = 10**5\n",
    "A,B = 0,0\n",
    "Suits = [\"\\u2663\", \"\\u2665\",\n",
    "         \"\\u2666\", \"\\u2660\"]\n",
    "Ranks = ['Ace', '6', '7', '8',\n",
    "         '9', '10', 'J', 'Q', 'K']\n",
    "deck_of_cards = []\n",
    "for rank in Ranks:\n",
    "    for suit in Suits:\n",
    "        deck_of_cards.append(f'{rank}{suit}')\n",
    "\n",
    "for toss in range(n):\n",
    "    card1, card2 = sample(deck_of_cards, 2)\n",
    "    lst_temp = [card1, card2]\n",
    "    if '6' in lst_temp[0] and '7' in lst_temp[1]:\n",
    "        A += 1\n",
    "    if lst_temp[0] == '6\\u2666' and  lst_temp[1] == '7\\u2666':\n",
    "        B += 1\n",
    "print(f'P(6|7) = {A/n}')\n",
    "print(f'P(6♦|7♦) = {B/n}')"
   ]
  },
  {
   "cell_type": "markdown",
   "metadata": {
    "id": "hNVxtaz5c57b"
   },
   "source": [
    "Предлагается также решить задачу: \n",
    "\n",
    "### Задача 10\n",
    "Из урны, содержащей два белых и три черных шара, последовательно извлекают два шара; вынутые шары не возвращаются. Если первый шар оказался черным, то перед вторым извлечением в урну добавляют белый шар. В противном случае состав оставшихся шаров не меняют. Найти вероятности событий:\n",
    "\n",
    "$A$ = {извлечены два белых шара},\n",
    "\n",
    "$B$ = {извлечены два черных шара}\n",
    "\n",
    "Указание. Пусть событие $C_1$ = {первый шар белый}, событие $C_2$ = {второй шар белый}. Тогда $A = C_1C_2$, $B = \\overline C_1 \\overline C_2$ "
   ]
  },
  {
   "cell_type": "code",
   "execution_count": 132,
   "metadata": {
    "id": "WSLnhk2sdBt_"
   },
   "outputs": [
    {
     "name": "stdout",
     "output_type": "stream",
     "text": [
      "P(A) = 0.10056\n",
      "P(B) = 0.23788\n"
     ]
    }
   ],
   "source": [
    "n = 10**5\n",
    "A,B = 0,0\n",
    "for toss in range(n):\n",
    "    urn = ['white','white','black','black','black']\n",
    "    ball_1 = choice(urn)\n",
    "    urn.remove(ball_1)\n",
    "    \n",
    "    if ball_1 == 'black':\n",
    "        urn.append('white')\n",
    "    ball_2 = choice(urn)\n",
    "    \n",
    "    if ball_1 == 'white' and ball_2 == 'white':\n",
    "        A += 1\n",
    "    elif ball_1 == 'black' and ball_2 == 'black':\n",
    "        B += 1\n",
    "        \n",
    "print(f'P(A) = {A/n}')\n",
    "print(f'P(B) = {B/n}')"
   ]
  }
 ],
 "metadata": {
  "colab": {
   "collapsed_sections": [],
   "name": "Практика к занятию 11.ipynb",
   "provenance": []
  },
  "kernelspec": {
   "display_name": "Python 3",
   "language": "python",
   "name": "python3"
  },
  "language_info": {
   "codemirror_mode": {
    "name": "ipython",
    "version": 3
   },
   "file_extension": ".py",
   "mimetype": "text/x-python",
   "name": "python",
   "nbconvert_exporter": "python",
   "pygments_lexer": "ipython3",
   "version": "3.7.6"
  }
 },
 "nbformat": 4,
 "nbformat_minor": 1
}
