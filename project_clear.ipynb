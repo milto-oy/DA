{
 "cells": [
  {
   "cell_type": "markdown",
   "metadata": {},
   "source": [
    "\"\"\"\n",
    "исследование рынка одной или нескольких «цифровых» профессий, \n",
    "\n",
    "например, «Аналитик данных», «Data Scientist», «Data Engineer» и др.\n",
    "\n",
    "1.\tСобрать датасет за короткий промежуток времени. \n",
    "\n",
    "2.\tПривести его в порядок:\n",
    "•\tПроанализировать его с точки зрения качества и полноты данных, необходимых для исследования. \n",
    "•\tЕсли не хватает дополнить. \n",
    "•\tЕсли есть дубликаты, аккуратно их убрать. Если есть пропуски, понять их причину и определить, что с ними делать.\n",
    "•\tПривести колонки датасета к определенным типам данных, удобных для работы.\n",
    "\n",
    "3.\tПровести исследование в разрезах уровней опыта: Начинающий, Средний, Продвинутый, Руководитель. \n",
    "Например так:\n",
    "•\tJunior(Начинающий)\n",
    "•\tMiddle(Средний)\n",
    "•\tSenior(Продвинутый)\n",
    "•\tHead/Cheif (Руководитель)\n",
    "\n",
    "Идеи для исследования:\n",
    "•\tКоличество вакансий по регионам/компаниям/формату работы (удаленка/офис/гибрид)\n",
    "•\tЗарплаты и вилки зарплат по регионам/компаниям/формату работы\n",
    "•\tНаиболее востребованные навыки. Соотношение «хард» и «софт» навыков.\n",
    "•\tВзаимосвязи между уровнем оплаты и регионами/навыками/форматами работы\n",
    "•\tВстречаемость определенных слов / фраз в описаниях вакансий, с помощью которых возможно получится оптимизировать резюме для поиска.\n",
    "•\tМожно использовать аналогичный подход, собрать информацию о профилях/резюме на соответствующие позиции и рассмотреть соотношение количества вакансий и резюме (спрос-предложение)\n",
    "•\tСравнить несколько смежных профессий по количеству вакансий, зарплате, навыкам\n",
    "•\tПопробовать построить модель прогнозирующую зарплату для вакансий, у которых она не указана\n",
    "\n",
    "\n",
    "Результаты исследования представить с помощью \n",
    "графиков и таблиц в виде презентации \n",
    "со ссылкой на репозиторий с кодом проекта\n",
    "\n",
    "\"\"\""
   ]
  },
  {
   "cell_type": "code",
   "execution_count": 1,
   "metadata": {},
   "outputs": [
    {
     "name": "stdout",
     "output_type": "stream",
     "text": [
      "2023-05-05 18:53:09.932579\n"
     ]
    }
   ],
   "source": [
    "import requests\n",
    "import pandas as pd\n",
    "from tqdm.auto import tqdm\n",
    "import matplotlib.pyplot as plt\n",
    "from collections import Counter\n",
    "import re\n",
    "from datetime import *\n",
    "import time\n",
    "import csv\n",
    "import os\n",
    "\n",
    "# функция для \"очистки\" строк от тегов разметки HTML.\n",
    "CLEANR = re.compile('<.*?>') \n",
    "def cleanhtml(raw_html):\n",
    "  cleantext = re.sub(CLEANR, '', raw_html)\n",
    "  return cleantext\n",
    "\n",
    "print(datetime.today())"
   ]
  },
  {
   "cell_type": "code",
   "execution_count": 2,
   "metadata": {},
   "outputs": [],
   "source": [
    "# формирование запроса к API hh.ru. Фильтр и порции данных.\n",
    "page = 1\n",
    "url_AD = f'https://api.hh.ru/vacancies?clusters=true&enable_snippets=true&st=searchVacancy&' \\\n",
    "    f'text=Аналитик+данных&search_field=name&per_page=100&page={page}'\n",
    "url_DS = f'https://api.hh.ru/vacancies?clusters=true&enable_snippets=true&st=searchVacancy&' \\\n",
    "    f'text=Data+Scientist&search_field=name&per_page=100&page={page}'\n",
    "url_DE = f'https://api.hh.ru/vacancies?clusters=true&enable_snippets=true&st=searchVacancy&' \\\n",
    "    f'text=Data+Engineer&search_field=name&per_page=100&page={page}'\n",
    "\n",
    "#region = 113 # 78-Самара 113-Самарская обл 212-Тольятти 1-Москва 2-С.Петербург \n",
    "#https://api.hh.ru/areas\n",
    "#num_per_page = 100\n",
    "#url = f'https://api.hh.ru/vacancies?clusters=true&only_with_salary=true&enable_snippets=true&st=searchVacancy&' \\\n",
    "#    f'text=Аналитик+данных&search_field=name&per_page=100&page={page}'\n"
   ]
  },
  {
   "cell_type": "code",
   "execution_count": 3,
   "metadata": {},
   "outputs": [],
   "source": [
    "#  извлечение данных по запросу, формирование словаря по первой странице данных, \n",
    "#  присваивание переменной словарю\n",
    "response_AD = requests.get(url_AD)\n",
    "vacs_AD = response_AD.json()\n",
    "\n",
    "response_DS = requests.get(url_DS)\n",
    "vacs_DS = response_DS.json()\n",
    "\n",
    "response_DE = requests.get(url_DE)\n",
    "vacs_DE = response_DE.json()\n",
    "\n",
    "# Создаем первый DataFrame из основного запроса\n",
    "vacs_AD = pd.DataFrame(vacs_AD.get('items'), columns=['id', 'published_at', 'name', 'area', 'salary',  'employer', 'snippet'])\n",
    "\n",
    "vacs_DS = pd.DataFrame(vacs_DS.get('items'), columns=['id', 'published_at', 'name', 'area', 'salary',  'employer', 'snippet'])\n",
    "\n",
    "vacs_DE = pd.DataFrame(vacs_DE.get('items'), columns=['id', 'published_at', 'name', 'area', 'salary',  'employer', 'snippet'])\n",
    "\n",
    "#len(all_DF.columns)\n",
    "#all_DF.columns\n",
    "#['id', 'published_at', 'name', 'area', 'salary',  'employer', 'snippet', 'accept_temporary', 'professional_roles']"
   ]
  },
  {
   "cell_type": "code",
   "execution_count": 4,
   "metadata": {},
   "outputs": [
    {
     "data": {
      "text/html": [
       "<div>\n",
       "<style scoped>\n",
       "    .dataframe tbody tr th:only-of-type {\n",
       "        vertical-align: middle;\n",
       "    }\n",
       "\n",
       "    .dataframe tbody tr th {\n",
       "        vertical-align: top;\n",
       "    }\n",
       "\n",
       "    .dataframe thead th {\n",
       "        text-align: right;\n",
       "    }\n",
       "</style>\n",
       "<table border=\"1\" class=\"dataframe\">\n",
       "  <thead>\n",
       "    <tr style=\"text-align: right;\">\n",
       "      <th></th>\n",
       "      <th>id</th>\n",
       "      <th>published_at</th>\n",
       "      <th>name</th>\n",
       "      <th>area</th>\n",
       "      <th>salary</th>\n",
       "      <th>employer</th>\n",
       "      <th>snippet</th>\n",
       "    </tr>\n",
       "  </thead>\n",
       "  <tbody>\n",
       "    <tr>\n",
       "      <th>0</th>\n",
       "      <td>80103503</td>\n",
       "      <td>2023-05-04T13:59:02+0300</td>\n",
       "      <td>Аналитик данных в маркетинговое агентство</td>\n",
       "      <td>{'id': '41', 'name': 'Калининград', 'url': 'ht...</td>\n",
       "      <td>None</td>\n",
       "      <td>{'id': '6158942', 'name': 'ASCMEDIA', 'url': '...</td>\n",
       "      <td>{'requirement': 'Отличные навыки анализа &lt;high...</td>\n",
       "    </tr>\n",
       "    <tr>\n",
       "      <th>1</th>\n",
       "      <td>78936752</td>\n",
       "      <td>2023-05-05T11:40:46+0300</td>\n",
       "      <td>Аналитик данных</td>\n",
       "      <td>{'id': '2', 'name': 'Санкт-Петербург', 'url': ...</td>\n",
       "      <td>None</td>\n",
       "      <td>{'id': '4219', 'name': 'Tele2', 'url': 'https:...</td>\n",
       "      <td>{'requirement': '1. Знание SQL. 2. Опыт проект...</td>\n",
       "    </tr>\n",
       "  </tbody>\n",
       "</table>\n",
       "</div>"
      ],
      "text/plain": [
       "         id              published_at  \\\n",
       "0  80103503  2023-05-04T13:59:02+0300   \n",
       "1  78936752  2023-05-05T11:40:46+0300   \n",
       "\n",
       "                                        name  \\\n",
       "0  Аналитик данных в маркетинговое агентство   \n",
       "1                            Аналитик данных   \n",
       "\n",
       "                                                area salary  \\\n",
       "0  {'id': '41', 'name': 'Калининград', 'url': 'ht...   None   \n",
       "1  {'id': '2', 'name': 'Санкт-Петербург', 'url': ...   None   \n",
       "\n",
       "                                            employer  \\\n",
       "0  {'id': '6158942', 'name': 'ASCMEDIA', 'url': '...   \n",
       "1  {'id': '4219', 'name': 'Tele2', 'url': 'https:...   \n",
       "\n",
       "                                             snippet  \n",
       "0  {'requirement': 'Отличные навыки анализа <high...  \n",
       "1  {'requirement': '1. Знание SQL. 2. Опыт проект...  "
      ]
     },
     "execution_count": 4,
     "metadata": {},
     "output_type": "execute_result"
    }
   ],
   "source": [
    "vacs_AD.head(2)"
   ]
  },
  {
   "cell_type": "code",
   "execution_count": 5,
   "metadata": {},
   "outputs": [
    {
     "name": "stdout",
     "output_type": "stream",
     "text": [
      "AD: <Response [200]> 100 (100, 7)\n",
      "DS: <Response [200]> 100 (100, 7)\n",
      "DE: <Response [200]> 100 (100, 7)\n"
     ]
    }
   ],
   "source": [
    "print('AD:', response_AD, len(vacs_AD), vacs_AD.shape)\n",
    "print('DS:', response_DS, len(vacs_DS), vacs_DS.shape)\n",
    "print('DE:', response_DE, len(vacs_DE), vacs_DE.shape)"
   ]
  },
  {
   "cell_type": "code",
   "execution_count": null,
   "metadata": {},
   "outputs": [],
   "source": []
  },
  {
   "cell_type": "code",
   "execution_count": 6,
   "metadata": {},
   "outputs": [
    {
     "data": {
      "application/vnd.jupyter.widget-view+json": {
       "model_id": "cc4a17fde6944386a9a66affaddd00d7",
       "version_major": 2,
       "version_minor": 0
      },
      "text/plain": [
       "HBox(children=(FloatProgress(value=0.0, max=4.0), HTML(value='')))"
      ]
     },
     "metadata": {},
     "output_type": "display_data"
    },
    {
     "name": "stdout",
     "output_type": "stream",
     "text": [
      "\n"
     ]
    },
    {
     "data": {
      "application/vnd.jupyter.widget-view+json": {
       "model_id": "b87249ff9a4b4688a0960d7e5537eeda",
       "version_major": 2,
       "version_minor": 0
      },
      "text/plain": [
       "HBox(children=(FloatProgress(value=0.0, max=4.0), HTML(value='')))"
      ]
     },
     "metadata": {},
     "output_type": "display_data"
    },
    {
     "name": "stdout",
     "output_type": "stream",
     "text": [
      "\n"
     ]
    },
    {
     "data": {
      "application/vnd.jupyter.widget-view+json": {
       "model_id": "8ed51af8497847ccb38d1adb2a37d18f",
       "version_major": 2,
       "version_minor": 0
      },
      "text/plain": [
       "HBox(children=(FloatProgress(value=0.0, max=4.0), HTML(value='')))"
      ]
     },
     "metadata": {},
     "output_type": "display_data"
    },
    {
     "name": "stdout",
     "output_type": "stream",
     "text": [
      "\n"
     ]
    }
   ],
   "source": [
    "# Копируем все титульники вакансий в один DataFrame методом concat с ignore_index\n",
    "\n",
    "\n",
    "for page_index in tqdm(range(2, 6)):\n",
    "    url_AD = f'https://api.hh.ru/vacancies?clusters=true&enable_snippets=true&st=searchVacancy&' \\\n",
    "    f'text=Аналитик+данных&search_field=name&per_page=100&page={page_index}'\n",
    "    response_temp = requests.get(url_AD)\n",
    "    vacs_temp = response_temp.json()\n",
    "    vacs_AD_temp = pd.DataFrame(vacs_temp.get('items'), columns=['id', 'published_at', 'name', 'area', 'salary',  'employer', 'snippet'])\n",
    "    vacs_AD = pd.concat([vacs_AD, vacs_AD_temp], ignore_index=True)\n",
    "\n",
    "    \n",
    "for page_index in tqdm(range(2, 6)):\n",
    "    url_DS = f'https://api.hh.ru/vacancies?clusters=true&enable_snippets=true&st=searchVacancy&' \\\n",
    "    f'text=Data+Scientist&search_field=name&per_page=100&page={page_index}'\n",
    "    response_temp = requests.get(url_DS)\n",
    "    vacs_temp = response_temp.json()\n",
    "    vacs_DS_temp = pd.DataFrame(vacs_temp.get('items'), columns=['id', 'published_at', 'name', 'area', 'salary',  'employer', 'snippet'])\n",
    "    vacs_DS = pd.concat([vacs_DS, vacs_DS_temp], ignore_index=True)\n",
    "    \n",
    "for page_index in tqdm(range(2, 6)):\n",
    "    url_DE = f'https://api.hh.ru/vacancies?clusters=true&enable_snippets=true&st=searchVacancy&' \\\n",
    "    f'text=Data+Engineer&search_field=name&per_page=100&page={page_index}'\n",
    "    response_temp = requests.get(url_DE)\n",
    "    vacs_temp = response_temp.json()\n",
    "    vacs_DE_temp = pd.DataFrame(vacs_temp.get('items'), columns=['id', 'published_at', 'name', 'area', 'salary',  'employer', 'snippet'])\n",
    "    vacs_DE = pd.concat([vacs_DE, vacs_DE_temp], ignore_index=True)"
   ]
  },
  {
   "cell_type": "code",
   "execution_count": 7,
   "metadata": {},
   "outputs": [
    {
     "name": "stdout",
     "output_type": "stream",
     "text": [
      "AD: <Response [200]> 412 (412, 7)\n",
      "DS: <Response [200]> 200 (200, 7)\n",
      "DE: <Response [200]> 418 (418, 7)\n"
     ]
    }
   ],
   "source": [
    "print('AD:', response_AD, len(vacs_AD), vacs_AD.shape)\n",
    "print('DS:', response_DS, len(vacs_DS), vacs_DS.shape)\n",
    "print('DE:', response_DE, len(vacs_DE), vacs_DE.shape)"
   ]
  },
  {
   "cell_type": "code",
   "execution_count": 8,
   "metadata": {},
   "outputs": [
    {
     "name": "stdout",
     "output_type": "stream",
     "text": [
      "True\n",
      "True\n",
      "True\n"
     ]
    }
   ],
   "source": [
    "# Проверяем нет ли повторов в сборке титульников\n",
    "print(vacs_AD.id.is_unique)\n",
    "print(vacs_DS.id.is_unique)\n",
    "print(vacs_DE.id.is_unique)"
   ]
  },
  {
   "cell_type": "code",
   "execution_count": 9,
   "metadata": {},
   "outputs": [
    {
     "data": {
      "text/plain": [
       "True"
      ]
     },
     "execution_count": 9,
     "metadata": {},
     "output_type": "execute_result"
    }
   ],
   "source": [
    "vacs_AD['id'].is_unique"
   ]
  },
  {
   "cell_type": "code",
   "execution_count": 10,
   "metadata": {},
   "outputs": [],
   "source": [
    "vacs_AD[vacs_AD['id'] == '79454326']\n",
    "lst_temp = []\n",
    "for i in vacs_AD['id']:\n",
    "    if vacs_AD['id'].tolist().count(i) > 1:\n",
    "        print(i)\n",
    "#vacs_AD.drop([100], axis=0, inplace=True)\n",
    "#vacs_AD.drop_duplicates(subset=['id'])"
   ]
  },
  {
   "cell_type": "code",
   "execution_count": 11,
   "metadata": {},
   "outputs": [
    {
     "data": {
      "text/html": [
       "<div>\n",
       "<style scoped>\n",
       "    .dataframe tbody tr th:only-of-type {\n",
       "        vertical-align: middle;\n",
       "    }\n",
       "\n",
       "    .dataframe tbody tr th {\n",
       "        vertical-align: top;\n",
       "    }\n",
       "\n",
       "    .dataframe thead th {\n",
       "        text-align: right;\n",
       "    }\n",
       "</style>\n",
       "<table border=\"1\" class=\"dataframe\">\n",
       "  <thead>\n",
       "    <tr style=\"text-align: right;\">\n",
       "      <th></th>\n",
       "      <th>id</th>\n",
       "      <th>published_at</th>\n",
       "      <th>name</th>\n",
       "      <th>area</th>\n",
       "      <th>salary</th>\n",
       "      <th>employer</th>\n",
       "      <th>snippet</th>\n",
       "    </tr>\n",
       "  </thead>\n",
       "  <tbody>\n",
       "    <tr>\n",
       "      <th>98</th>\n",
       "      <td>79454326</td>\n",
       "      <td>2023-05-03T12:35:13+0300</td>\n",
       "      <td>Аналитик баз данных</td>\n",
       "      <td>{'id': '2760', 'name': 'Бишкек', 'url': 'https...</td>\n",
       "      <td>{'from': 100000, 'to': None, 'currency': 'RUR'...</td>\n",
       "      <td>{'id': '4919467', 'name': 'ЛИГРЕС', 'url': 'ht...</td>\n",
       "      <td>{'requirement': '...обработки баз &lt;highlightte...</td>\n",
       "    </tr>\n",
       "  </tbody>\n",
       "</table>\n",
       "</div>"
      ],
      "text/plain": [
       "          id              published_at                 name  \\\n",
       "98  79454326  2023-05-03T12:35:13+0300  Аналитик баз данных   \n",
       "\n",
       "                                                 area  \\\n",
       "98  {'id': '2760', 'name': 'Бишкек', 'url': 'https...   \n",
       "\n",
       "                                               salary  \\\n",
       "98  {'from': 100000, 'to': None, 'currency': 'RUR'...   \n",
       "\n",
       "                                             employer  \\\n",
       "98  {'id': '4919467', 'name': 'ЛИГРЕС', 'url': 'ht...   \n",
       "\n",
       "                                              snippet  \n",
       "98  {'requirement': '...обработки баз <highlightte...  "
      ]
     },
     "execution_count": 11,
     "metadata": {},
     "output_type": "execute_result"
    }
   ],
   "source": [
    "vacs_AD[vacs_AD['id'] == '79454326']"
   ]
  },
  {
   "cell_type": "code",
   "execution_count": 14,
   "metadata": {},
   "outputs": [],
   "source": [
    "#vacs_AD.drop([100], axis=0, inplace=True)"
   ]
  },
  {
   "cell_type": "code",
   "execution_count": 15,
   "metadata": {},
   "outputs": [
    {
     "data": {
      "text/plain": [
       "310    2023-04-29T11:48:53+0300\n",
       "380    2023-05-05T17:42:45+0300\n",
       "Name: published_at, dtype: object"
      ]
     },
     "execution_count": 15,
     "metadata": {},
     "output_type": "execute_result"
    }
   ],
   "source": [
    "vacs_AD['published_at'].sample(2)"
   ]
  },
  {
   "cell_type": "code",
   "execution_count": 16,
   "metadata": {
    "scrolled": true
   },
   "outputs": [],
   "source": [
    "# (Черновики) strftime(), strptime() коды: \n",
    "# https://docs.python.org/3/library/datetime.html\n",
    "# strftime-and-strptime-behavior\n",
    "\n",
    "#for dt in vacs_DF['published_at']:\n",
    "#    print(str(dt).split())\n",
    "\n",
    "# Переведите даты публикаций в формат datetime\n",
    "# Удостоверяемся что pandas воспринимает имеющиеся даты верно\n",
    "#vacs_DF['published_at'] = pd.to_datetime(vacs_DF['published_at'])\n",
    "#vacs_DF"
   ]
  },
  {
   "cell_type": "code",
   "execution_count": 17,
   "metadata": {},
   "outputs": [],
   "source": [
    "for dt_index in range(len(vacs_AD['published_at'])):\n",
    "    vacs_AD['published_at'].iloc[dt_index] = vacs_AD['published_at'].iloc[dt_index].split('T')[0]\n",
    "    \n",
    "for dt_index in range(len(vacs_DS['published_at'])):\n",
    "    vacs_DS['published_at'].iloc[dt_index] = vacs_DS['published_at'].iloc[dt_index].split('T')[0]\n",
    "    \n",
    "for dt_index in range(len(vacs_DE['published_at'])):\n",
    "    vacs_DE['published_at'].iloc[dt_index] = vacs_DE['published_at'].iloc[dt_index].split('T')[0]"
   ]
  },
  {
   "cell_type": "code",
   "execution_count": 18,
   "metadata": {},
   "outputs": [
    {
     "data": {
      "text/plain": [
       "0      2023-05-04\n",
       "1      2023-05-05\n",
       "2      2023-05-05\n",
       "3      2023-05-04\n",
       "4      2023-05-05\n",
       "          ...    \n",
       "407    2023-05-03\n",
       "408    2023-05-05\n",
       "409    2023-04-17\n",
       "410    2023-05-04\n",
       "411    2023-04-27\n",
       "Name: published_at, Length: 411, dtype: object"
      ]
     },
     "execution_count": 18,
     "metadata": {},
     "output_type": "execute_result"
    }
   ],
   "source": [
    "vacs_AD['published_at']"
   ]
  },
  {
   "cell_type": "code",
   "execution_count": 19,
   "metadata": {},
   "outputs": [],
   "source": [
    "vacs_AD['published_at'] = pd.to_datetime(vacs_AD['published_at'],  format=\"%Y-%m-%d\")\n",
    "vacs_DS['published_at'] = pd.to_datetime(vacs_DS['published_at'],  format=\"%Y-%m-%d\")\n",
    "vacs_DE['published_at'] = pd.to_datetime(vacs_DE['published_at'],  format=\"%Y-%m-%d\")\n"
   ]
  },
  {
   "cell_type": "code",
   "execution_count": 20,
   "metadata": {},
   "outputs": [
    {
     "data": {
      "text/html": [
       "<div>\n",
       "<style scoped>\n",
       "    .dataframe tbody tr th:only-of-type {\n",
       "        vertical-align: middle;\n",
       "    }\n",
       "\n",
       "    .dataframe tbody tr th {\n",
       "        vertical-align: top;\n",
       "    }\n",
       "\n",
       "    .dataframe thead th {\n",
       "        text-align: right;\n",
       "    }\n",
       "</style>\n",
       "<table border=\"1\" class=\"dataframe\">\n",
       "  <thead>\n",
       "    <tr style=\"text-align: right;\">\n",
       "      <th></th>\n",
       "      <th>id</th>\n",
       "      <th>published_at</th>\n",
       "      <th>name</th>\n",
       "      <th>area</th>\n",
       "      <th>salary</th>\n",
       "      <th>employer</th>\n",
       "      <th>snippet</th>\n",
       "    </tr>\n",
       "  </thead>\n",
       "  <tbody>\n",
       "    <tr>\n",
       "      <th>64</th>\n",
       "      <td>76974214</td>\n",
       "      <td>2023-05-04</td>\n",
       "      <td>Data scientist (Ценообразование)</td>\n",
       "      <td>{'id': '1', 'name': 'Москва', 'url': 'https://...</td>\n",
       "      <td>None</td>\n",
       "      <td>{'id': '2343', 'name': 'Спортмастер', 'url': '...</td>\n",
       "      <td>{'requirement': 'Стек технологий: Опыт использ...</td>\n",
       "    </tr>\n",
       "    <tr>\n",
       "      <th>27</th>\n",
       "      <td>79929005</td>\n",
       "      <td>2023-04-28</td>\n",
       "      <td>Data Scientist (Global markets)</td>\n",
       "      <td>{'id': '1', 'name': 'Москва', 'url': 'https://...</td>\n",
       "      <td>None</td>\n",
       "      <td>{'id': '3529', 'name': 'СБЕР', 'url': 'https:/...</td>\n",
       "      <td>{'requirement': 'Высшее техническое/математиче...</td>\n",
       "    </tr>\n",
       "  </tbody>\n",
       "</table>\n",
       "</div>"
      ],
      "text/plain": [
       "          id published_at                              name  \\\n",
       "64  76974214   2023-05-04  Data scientist (Ценообразование)   \n",
       "27  79929005   2023-04-28   Data Scientist (Global markets)   \n",
       "\n",
       "                                                 area salary  \\\n",
       "64  {'id': '1', 'name': 'Москва', 'url': 'https://...   None   \n",
       "27  {'id': '1', 'name': 'Москва', 'url': 'https://...   None   \n",
       "\n",
       "                                             employer  \\\n",
       "64  {'id': '2343', 'name': 'Спортмастер', 'url': '...   \n",
       "27  {'id': '3529', 'name': 'СБЕР', 'url': 'https:/...   \n",
       "\n",
       "                                              snippet  \n",
       "64  {'requirement': 'Стек технологий: Опыт использ...  \n",
       "27  {'requirement': 'Высшее техническое/математиче...  "
      ]
     },
     "execution_count": 20,
     "metadata": {},
     "output_type": "execute_result"
    }
   ],
   "source": [
    "vacs_DS.sample(2)"
   ]
  },
  {
   "cell_type": "code",
   "execution_count": 22,
   "metadata": {},
   "outputs": [
    {
     "data": {
      "text/plain": [
       "27   2023-04-28\n",
       "96   2023-05-05\n",
       "Name: published_at, dtype: datetime64[ns]"
      ]
     },
     "execution_count": 22,
     "metadata": {},
     "output_type": "execute_result"
    }
   ],
   "source": [
    "vacs_DS['published_at'].sample(2)"
   ]
  },
  {
   "cell_type": "code",
   "execution_count": 23,
   "metadata": {},
   "outputs": [],
   "source": [
    "# сбор id в один список\n",
    "vacs_AD_ids = vacs_AD['id'].tolist()\n",
    "vacs_DS_ids = vacs_DS['id'].tolist()\n",
    "vacs_DE_ids = vacs_DE['id'].tolist()\n",
    "\n",
    "#all_vacs_ids"
   ]
  },
  {
   "cell_type": "code",
   "execution_count": 24,
   "metadata": {},
   "outputs": [
    {
     "name": "stdout",
     "output_type": "stream",
     "text": [
      "True\n",
      "True\n",
      "True\n"
     ]
    }
   ],
   "source": [
    "# проверка сбора id на уникальность всех ключей\n",
    "#len(set(vacs_DF['id'].tolist()))\n",
    "#Seria_all_ids = pd.Series(all_vacs_ids)\n",
    "#all_vacs_ids\n",
    "#print(Seria_all_ids.is_unique, len(set(all_vacs_ids)), len(set(all_vacs_ids)) == len(all_vacs_ids))\n",
    "print(len(vacs_AD_ids) == len(set(vacs_AD_ids)))\n",
    "print(len(vacs_DS_ids) == len(set(vacs_DS_ids)))\n",
    "print(len(vacs_DE_ids) == len(set(vacs_DE_ids)))"
   ]
  },
  {
   "cell_type": "code",
   "execution_count": null,
   "metadata": {},
   "outputs": [],
   "source": []
  },
  {
   "cell_type": "code",
   "execution_count": 72,
   "metadata": {
    "scrolled": false
   },
   "outputs": [
    {
     "data": {
      "application/vnd.jupyter.widget-view+json": {
       "model_id": "2f7eb23e5cf84b7aa721754d456a6aa0",
       "version_major": 2,
       "version_minor": 0
      },
      "text/plain": [
       "  0%|          | 0/424 [00:00<?, ?it/s]"
      ]
     },
     "metadata": {},
     "output_type": "display_data"
    },
    {
     "data": {
      "application/vnd.jupyter.widget-view+json": {
       "model_id": "801f6f95357c40a387d2106336677157",
       "version_major": 2,
       "version_minor": 0
      },
      "text/plain": [
       "  0%|          | 0/206 [00:00<?, ?it/s]"
      ]
     },
     "metadata": {},
     "output_type": "display_data"
    },
    {
     "data": {
      "application/vnd.jupyter.widget-view+json": {
       "model_id": "f36bb39d732d483f813fb7088e055e1c",
       "version_major": 2,
       "version_minor": 0
      },
      "text/plain": [
       "  0%|          | 0/423 [00:00<?, ?it/s]"
      ]
     },
     "metadata": {},
     "output_type": "display_data"
    }
   ],
   "source": [
    "\"\"\"исполнение этого кода занимает 30мин\"\"\"\n",
    "# Сбор подробных описаний и навыков каждой вакансии по ID с интервалом в 1.25 сек, \n",
    "# применение функции очистки описания от HTML кода и сохранение этих данных в файл.\n",
    "with open('vacs_AD_ids.csv', 'wt', encoding='utf-8') as vacs_AD_ids_out:\n",
    "    for id_index in tqdm(range(len(set(vacs_AD_ids)))):\n",
    "        vac_url = f'https://api.hh.ru/vacancies/{vacs_AD_ids[id_index]}'\n",
    "        response_discription = requests.get(vac_url)\n",
    "        if response_discription.status_code != 200:\n",
    "            break\n",
    "        vacancy = response_discription.json()\n",
    "        print( {'id': vacancy['id'], 'description': cleanhtml(vacancy['description'].strip()), 'key_skills': vacancy['key_skills']}, file=vacs_AD_ids_out)\n",
    "        time.sleep(1.25)\n",
    "\n",
    "with open('vacs_DS_ids.csv', 'wt', encoding='utf-8') as vacs_DS_ids_out:\n",
    "    for id_index in tqdm(range(len(set(vacs_DS_ids)))):\n",
    "        vac_url = f'https://api.hh.ru/vacancies/{vacs_DS_ids[id_index]}'\n",
    "        response_discription = requests.get(vac_url)\n",
    "        if response_discription.status_code != 200:\n",
    "            break\n",
    "        vacancy = response_discription.json()\n",
    "        print( {'id': vacancy['id'], 'description': cleanhtml(vacancy['description'].strip()), 'key_skills': vacancy['key_skills']}, file=vacs_DS_ids_out)\n",
    "        time.sleep(1.25)\n",
    "        \n",
    "with open('vacs_DE_ids.csv', 'wt', encoding='utf-8') as vacs_DE_ids_out:\n",
    "    for id_index in tqdm(range(len(set(vacs_DE_ids)))):\n",
    "        vac_url = f'https://api.hh.ru/vacancies/{vacs_DE_ids[id_index]}'\n",
    "        response_discription = requests.get(vac_url)\n",
    "        if response_discription.status_code != 200:\n",
    "            break\n",
    "        vacancy = response_discription.json()\n",
    "        print( {'id': vacancy['id'], 'description': cleanhtml(vacancy['description'].strip()), 'key_skills': vacancy['key_skills']}, file=vacs_DE_ids_out)\n",
    "        time.sleep(1.25)\n",
    "\n",
    "# (Черновики)\n",
    "#vac_url = f'https://api.hh.ru/vacancies/78405583'\n",
    "#&backurl=\n",
    "# '78405583'\n",
    "#https://togliatti.hh.ru/account/captcha?state=pxvcxBozfu7ry7R4QCetFpeicJ2Ml-ur_701s7jX2mZxCzHziryEFFjVgnI-vznkNdUIWdhjs6NIFt-i5ml1f3uEucaBx-9DR_IjNnx8p-OSPQNibaEKRsV4_kEF7VV_&backurl="
   ]
  },
  {
   "cell_type": "code",
   "execution_count": 27,
   "metadata": {},
   "outputs": [
    {
     "name": "stdout",
     "output_type": "stream",
     "text": [
      "418\n"
     ]
    }
   ],
   "source": [
    "with open('file_out.csv', 'rt', encoding='utf-8') as file:\n",
    "    content = file.readlines()\n",
    "    print(len(content))"
   ]
  },
  {
   "cell_type": "code",
   "execution_count": 73,
   "metadata": {},
   "outputs": [],
   "source": [
    "# словари сохранились в виде строковых данных. \n",
    "# извлеку их функцией eval, для экономии времени.\n",
    "lst_temp = []\n",
    "with open('vacs_AD_ids.csv', 'rt', encoding='utf-8') as file:\n",
    "    content = file.readlines()\n",
    "    for i in range(len(content)):\n",
    "        lst_temp.append(eval(content[i].strip()))\n",
    "vac_AD_desript = pd.DataFrame(lst_temp, columns=['id','description','key_skills'])\n",
    "Full_vacs_AD = pd.merge(vacs_AD, vac_AD_desript, on='id')\n",
    "lst_temp = []\n",
    "with open('vacs_DS_ids.csv', 'rt', encoding='utf-8') as file:\n",
    "    content = file.readlines()\n",
    "    for i in range(len(content)):\n",
    "        lst_temp.append(eval(content[i].strip()))\n",
    "vac_DS_desript = pd.DataFrame(lst_temp, columns=['id','description','key_skills'])\n",
    "Full_vacs_DS = pd.merge(vacs_DS, vac_DS_desript, on='id')\n",
    "lst_temp = []\n",
    "with open('vacs_DE_ids.csv', 'rt', encoding='utf-8') as file:\n",
    "    content = file.readlines()\n",
    "    for i in range(len(content)):\n",
    "        lst_temp.append(eval(content[i].strip()))\n",
    "vac_DE_desript = pd.DataFrame(lst_temp, columns=['id','description','key_skills'])\n",
    "Full_vacs_DE = pd.merge(vacs_DE, vac_DE_desript, on='id')"
   ]
  },
  {
   "cell_type": "code",
   "execution_count": 77,
   "metadata": {},
   "outputs": [
    {
     "data": {
      "text/html": [
       "<div>\n",
       "<style scoped>\n",
       "    .dataframe tbody tr th:only-of-type {\n",
       "        vertical-align: middle;\n",
       "    }\n",
       "\n",
       "    .dataframe tbody tr th {\n",
       "        vertical-align: top;\n",
       "    }\n",
       "\n",
       "    .dataframe thead th {\n",
       "        text-align: right;\n",
       "    }\n",
       "</style>\n",
       "<table border=\"1\" class=\"dataframe\">\n",
       "  <thead>\n",
       "    <tr style=\"text-align: right;\">\n",
       "      <th></th>\n",
       "      <th>id</th>\n",
       "      <th>published_at</th>\n",
       "      <th>name</th>\n",
       "      <th>area</th>\n",
       "      <th>salary</th>\n",
       "      <th>employer</th>\n",
       "      <th>snippet</th>\n",
       "      <th>description</th>\n",
       "      <th>key_skills</th>\n",
       "    </tr>\n",
       "  </thead>\n",
       "  <tbody>\n",
       "    <tr>\n",
       "      <th>0</th>\n",
       "      <td>79796315</td>\n",
       "      <td>2023-05-01</td>\n",
       "      <td>Data DevOps Engineer</td>\n",
       "      <td>{'id': '1', 'name': 'Москва', 'url': 'https://...</td>\n",
       "      <td>None</td>\n",
       "      <td>{'id': '5465724', 'name': 'BAUM STORAGE', 'url...</td>\n",
       "      <td>{'requirement': 'Опыт работы с Docker обязател...</td>\n",
       "      <td>Компания BAUM - с 2010 года специализируется н...</td>\n",
       "      <td>[{'name': 'Kafka'}, {'name': 'Spark'}, {'name'...</td>\n",
       "    </tr>\n",
       "  </tbody>\n",
       "</table>\n",
       "</div>"
      ],
      "text/plain": [
       "         id published_at                  name  \\\n",
       "0  79796315   2023-05-01  Data DevOps Engineer   \n",
       "\n",
       "                                                area salary  \\\n",
       "0  {'id': '1', 'name': 'Москва', 'url': 'https://...   None   \n",
       "\n",
       "                                            employer  \\\n",
       "0  {'id': '5465724', 'name': 'BAUM STORAGE', 'url...   \n",
       "\n",
       "                                             snippet  \\\n",
       "0  {'requirement': 'Опыт работы с Docker обязател...   \n",
       "\n",
       "                                         description  \\\n",
       "0  Компания BAUM - с 2010 года специализируется н...   \n",
       "\n",
       "                                          key_skills  \n",
       "0  [{'name': 'Kafka'}, {'name': 'Spark'}, {'name'...  "
      ]
     },
     "execution_count": 77,
     "metadata": {},
     "output_type": "execute_result"
    }
   ],
   "source": [
    "Full_vacs_DE.head(1)"
   ]
  },
  {
   "cell_type": "code",
   "execution_count": null,
   "metadata": {},
   "outputs": [],
   "source": [
    "vacs_AD_ids.csv\n",
    "vacs_DS_ids.csv\n",
    "vacs_DE_ids.csv"
   ]
  },
  {
   "cell_type": "code",
   "execution_count": 79,
   "metadata": {},
   "outputs": [],
   "source": [
    "# Сохраню все DataFrame's в файлы,т.к. расхождение увеличивается со временем\n",
    "# и далее будем взаимодействовать с файлами\n",
    "vacs_AD.to_csv('vacs_AD.csv', index=False)\n",
    "vac_AD_desript.to_csv('vac_AD_desript.csv', index=False)\n",
    "Full_vacs_AD.to_csv('Full_vacs_AD.csv', index=False)\n",
    "\n",
    "vacs_DS.to_csv('vacs_DS.csv', index=False)\n",
    "vac_DS_desript.to_csv('vac_DS_desript.csv', index=False)\n",
    "Full_vacs_DS.to_csv('Full_vacs_DS.csv', index=False)\n",
    "\n",
    "vacs_DE.to_csv('vacs_DE.csv', index=False)\n",
    "vac_DE_desript.to_csv('vac_DE_desript.csv', index=False)\n",
    "Full_vacs_DE.to_csv('Full_vacs_DE.csv', index=False)\n"
   ]
  },
  {
   "cell_type": "code",
   "execution_count": 81,
   "metadata": {},
   "outputs": [
    {
     "name": "stdout",
     "output_type": "stream",
     "text": [
      "424 424 424\n",
      "206 206 206\n",
      "423 423 423\n"
     ]
    }
   ],
   "source": [
    "# Присвою переменным таблицы из файлов.\n",
    "vacs_AD = pd.read_csv('vacs_AD.csv')\n",
    "vac_AD_desript = pd.read_csv('vac_AD_desript.csv')\n",
    "Full_vacs_AD = pd.read_csv('Full_vacs_AD.csv')\n",
    "\n",
    "vacs_DS = pd.read_csv('vacs_DS.csv')\n",
    "vac_DS_desript = pd.read_csv('vac_DS_desript.csv')\n",
    "Full_vacs_DS = pd.read_csv('Full_vacs_DS.csv')\n",
    "\n",
    "vacs_DE = pd.read_csv('vacs_DE.csv')\n",
    "vac_DE_desript = pd.read_csv('vac_DE_desript.csv')\n",
    "Full_vacs_DE = pd.read_csv('Full_vacs_DE.csv')\n",
    "\n",
    "print(len(vacs_AD), len(vac_AD_desript), len(Full_vacs_AD))\n",
    "print(len(vacs_DS), len(vac_DS_desript), len(Full_vacs_DS))\n",
    "print(len(vacs_DE), len(vac_DE_desript), len(Full_vacs_DE))"
   ]
  },
  {
   "cell_type": "code",
   "execution_count": 83,
   "metadata": {},
   "outputs": [],
   "source": [
    "# Убираем из таблицы вакансии в которых не указаны ключевые навыки\n",
    "Full_vacs_AD_op1 = Full_vacs_AD.key_skills.apply(lambda str: None if str == '[]' else eval(str)[:])\n",
    "Full_vacs_AD_op1 = Full_vacs_AD_op1.dropna()\n",
    "Full_vacs_DS_op1 = Full_vacs_DS.key_skills.apply(lambda str: None if str == '[]' else eval(str)[:])\n",
    "Full_vacs_DS_op1 = Full_vacs_DS_op1.dropna()\n",
    "Full_vacs_DE_op1 = Full_vacs_DE.key_skills.apply(lambda str: None if str == '[]' else eval(str)[:])\n",
    "Full_vacs_DE_op1 = Full_vacs_DE_op1.dropna()"
   ]
  },
  {
   "cell_type": "code",
   "execution_count": 85,
   "metadata": {},
   "outputs": [
    {
     "name": "stdout",
     "output_type": "stream",
     "text": [
      "299 142 342\n"
     ]
    }
   ],
   "source": [
    "print(len(Full_vacs_AD_op1),len(Full_vacs_DS_op1),len(Full_vacs_DE_op1))"
   ]
  },
  {
   "cell_type": "code",
   "execution_count": 89,
   "metadata": {},
   "outputs": [
    {
     "data": {
      "text/plain": [
       "413    [{'name': 'DWH'}, {'name': 'Английский язык'},...\n",
       "414    [{'name': 'SQL'}, {'name': 'Python'}, {'name':...\n",
       "415    [{'name': 'Обучение'}, {'name': 'Подготовка пр...\n",
       "416    [{'name': 'SQL'}, {'name': 'Python'}, {'name':...\n",
       "417    [{'name': 'ClickHouse'}, {'name': 'DataLens'},...\n",
       "418    [{'name': 'SQL'}, {'name': 'Python'}, {'name':...\n",
       "419    [{'name': 'SQL'}, {'name': 'Python'}, {'name':...\n",
       "420    [{'name': 'SQL'}, {'name': 'Python'}, {'name':...\n",
       "421    [{'name': 'SQL'}, {'name': 'Python'}, {'name':...\n",
       "422    [{'name': 'SQL'}, {'name': 'Python'}, {'name':...\n",
       "Name: key_skills, dtype: object"
      ]
     },
     "execution_count": 89,
     "metadata": {},
     "output_type": "execute_result"
    }
   ],
   "source": [
    "Full_vacs_DE_op1.tail(10)"
   ]
  },
  {
   "cell_type": "code",
   "execution_count": 84,
   "metadata": {},
   "outputs": [
    {
     "data": {
      "text/plain": [
       "0     [{'name': 'Python'}, {'name': 'SQL'}, {'name':...\n",
       "1     [{'name': 'SQL'}, {'name': 'Excel'}, {'name': ...\n",
       "2     [{'name': 'Статистический анализ'}, {'name': '...\n",
       "3     [{'name': 'Python'}, {'name': 'SQL'}, {'name':...\n",
       "4     [{'name': 'Python'}, {'name': 'SQL'}, {'name':...\n",
       "5     [{'name': 'Системный анализ'}, {'name': 'UML'}...\n",
       "6     [{'name': 'Работа с базами данных'}, {'name': ...\n",
       "8     [{'name': 'Работа с системами аналитики'}, {'n...\n",
       "10    [{'name': 'SQL'}, {'name': 'MS SQL'}, {'name':...\n",
       "12               [{'name': 'Fine BI'}, {'name': 'SQL'}]\n",
       "Name: key_skills, dtype: object"
      ]
     },
     "execution_count": 84,
     "metadata": {},
     "output_type": "execute_result"
    }
   ],
   "source": [
    "Full_vacs_AD_op1.iloc[0:10]"
   ]
  },
  {
   "cell_type": "code",
   "execution_count": 92,
   "metadata": {},
   "outputs": [
    {
     "name": "stdout",
     "output_type": "stream",
     "text": [
      "Counter({'SQL': 179, 'Python': 118, 'Анализ данных': 97, 'Аналитическое мышление': 85, 'Power BI': 47, 'Базы данных': 43, 'MS SQL': 43, 'MS Excel': 43, 'Работа с большим объемом информации': 39, 'Математическая статистика': 28, 'Аналитика': 28, 'PostgreSQL': 28, 'MS PowerPoint': 27, 'Работа с базами данных': 26, 'Excel': 25, 'Аналитические исследования': 23, 'ORACLE': 19, 'Tableau': 18, 'Data Analysis': 18, 'Анализ бизнес показателей': 17, 'Бизнес-анализ': 17, 'ETL': 16, 'Статистический анализ': 15, 'VBA': 15, 'PowerBI': 15, 'Английский язык': 15, 'Hadoop': 14, 'Визуализация данных': 13, 'Power Query': 13, 'СУБД': 12, 'Системный анализ': 11, 'Математический анализ': 11, 'ClickHouse': 11, 'Подготовка презентаций': 11, 'MS Power BI': 11, 'Big Data': 11, 'Teradata': 10, 'Управление проектами': 10, 'A/B тесты': 9, 'Сбор и анализ информации': 9, 'Power Pivot': 9, 'Работа в команде': 9, 'Atlassian Jira': 9, 'Прогнозирование': 8, 'DWH': 8, 'BI': 8, 'Грамотная речь': 7, 'Продвинутый пользователь ПК': 7, 'Математическое моделирование': 7, 'Spark': 7, 'MS Access': 7, 'UML': 6, 'ML': 6, 'Аналитика данных': 6, 'Работа в условиях многозадачности': 6, 'Системное мышление': 6, 'SAP BI': 6, 'Автоматизация процессов': 6, 'OpenCV': 6, 'Deep Learning': 6, 'BPMN': 6, 'Статистика': 5, 'Анализ рынка': 5, 'Деловая коммуникация': 5, 'Сводные таблицы': 5, 'Data Science': 5, 'Machine Learning': 5, 'Atlassian Confluence': 5, 'Анализ финансовых показателей': 5, 'Отчетность': 5, 'Навыки презентации': 5, 'Cистемы управления базами данных': 5, 'Деловая переписка': 5, 'Oracle Pl/SQL': 5, 'C++': 5, 'XML': 5, 'Постановка задач разработчикам': 5, 'AirFlow': 5, 'Грамотность': 4, 'Data Mining': 4, 'Business Intelligence Systems': 4, 'R': 4, 'Экономический анализ': 4, 'Аналитические навыки': 4, 'Pandas': 4, 'Теория вероятностей': 4, 'SAP BW': 4, 'Grafana': 4, 'ArenaData': 4, 'Bitbucket': 4, 'Team City': 4, 'Linux': 3, 'Умение работать в условиях многозадачности': 3, 'Деловое общение': 3, 'Qlik Sense': 3, 'Логика': 3, 'Data Governance': 3, 'Подготовка отчетов': 3, 'Умение анализировать': 3, '1C: Финансы': 3, 'Google Sheets': 3, 'Системный подход': 3, 'Конкурентная аналитика': 3, 'Многозадачность': 3, 'DAX': 3, 'Умение принимать решения': 3, 'Проектная документация': 3, 'Olap (online analytical processing)': 3, 'НСИ': 3, 'Аналитические способности': 3, 'Маркетинговый анализ': 3, 'Google Analytics': 3, 'SPSS': 3, 'MS SharePoint': 3, 'Бизнес-моделирование': 3, 'MS SQL Server': 3, 'JSON API': 3, 'CRM': 3, 'Факторный анализ': 3, 'Техническая документация': 2, 'MS Visual Basic': 2, 'Работа с системами аналитики': 2, 'Ведение отчетности': 2, 'ВПР': 2, 'Коммуникабельность': 2, 'ABC-анализ': 2, 'Анализ продаж': 2, 'Русский язык': 2, 'Ориентация на результат': 2, 'OLAP': 2, 'Внимательность, ответственность': 2, 'Креативность': 2, 'Гибкость мышления': 2, 'Нефтегаз': 2, 'Навыки работы с большим объемом информации': 2, 'Профессиональный пользователь ПК': 2, 'Коммуникабельность, ответственность': 2, 'Ответственность и пунктуальность': 2, 'Высокая ответственность': 2, 'Разработка инструкций': 2, 'Маркетинговые исследования': 2, 'Informatica': 2, 'MS Power Builder': 2, 'Agile': 2, 'Ценообразование': 2, 'Моделирование': 2, 'Генерация идей': 2, 'Управленческая отчетность': 2, 'Аналитика продаж': 2, 'Разработка технических заданий': 2, 'MS Visio': 2, 'Информационные технологии': 2, 'Confluence': 2, 'Sas': 2, 'Оптимизация бизнес-процессов': 2, 'Веб-аналитика': 2, 'Oracle BI': 2, 'Уверенный пользователь MS Office': 2, '1С: Предприятие 8': 2, 'API': 2, 'Appsflyer': 2, 'Firebase': 2, 'MySQL': 2, 'PySpark': 2, 'Statistica': 2, 'Clickhouse': 2, 'Ответственность': 2, 'Google Docs': 2, 'Анализ требований': 2, 'MS CRM': 2, 'Разговорный английский': 2, 'Финансовый анализ': 2, 'Дашборды': 2, 'База данных: Olap': 2, 'NoSQL': 2, 'ЦФТ': 2, 'MS Outlook': 2, 'Data Management': 2, 'Бизнес-глоссарий': 2, 'формирование бизнес-требований': 2, 'R Studio': 1, 'Поисковые системы': 1, 'Fine BI': 1, '1С: Комплексная автоматизация': 1, '1С: Торговля и склад': 1, '1С: Склад': 1, 'Ответственность за результат': 1, 'Android': 1, 'Структурированность': 1, 'SQL запросы': 1, 'Аналитическая работа': 1, 'Работоспособность': 1, 'Инициативность': 1, 'скрупулезность': 1, 'Умение работать в коллективе': 1, 'ABC analysis': 1, 'SMM': 1, 'ORM': 1, 'SERM': 1, 'Internet Marketing': 1, 'работа в CRM': 1, 'amoCRM': 1, 'Умение работать в команде': 1, 'входящие звонки': 1, 'исходящие звонки': 1, 'Навыки делового общения': 1, 'Активные продажи': 1, 'Желание учиться': 1, 'Умение слушать и слышать': 1, 'PowerBi': 1, 'Qlick': 1, 'Работа в Excel': 1, 'Готовность обучаться': 1, 'Scrum': 1, 'PowerPoint': 1, 'MATLAB': 1, 'Data Catalog': 1, 'DMBOK DAMA': 1, 'Business Glossary': 1, 'внимательность': 1, 'усидчивость': 1, 'работа в офисе': 1, 'Mathematical Analysis': 1, 'Yandex.DataLens': 1, 'Телекоммуникации': 1, 'Oracle Siebel CRM': 1, 'MS Project': 1, 'Oracle Primavera': 1, 'Exсel': 1, 'Пользователь ПК': 1, 'Анализ временных рядов': 1, 'Работа с большими массивами данных': 1, 'Ad Hoc Analysis': 1, 'Управление данными': 1, 'Качество данных': 1, 'Анализ АБС': 1, 'Ведение базы данных': 1, 'Django Framework': 1, 'Flask': 1, 'IBM Unica': 1, 'WSO2 Stream Processor': 1, 'Kibana': 1, 'Siddhi': 1, 'Knime': 1, 'IDEF': 1, 'Excel VBA': 1, 'Cost of Risk': 1, 'Анализ рисков': 1, 'Торговая площадка': 1, 'Metabase': 1, 'Машинное обучение': 1, 'навыки работы в информационных аналитических системах': 1, 'умение анализировать, систематизировать информацию, делать выводы на основе данных': 1, 'уверенный пользователь Exce': 1, 'продвинутый уровень SQL(аналитические функции, подзапросы, хранимые процедуры, оптимизация запросов)': 1, 'продвинутый уровень MS Office (макросы)': 1, 'знание основ финансового анализа': 1, 'знание классических банковских продуктов': 1, 'понимание инвестиционных продуктов': 1, 'знание математической статистики и методов анализа данных': 1, 'Развитие бренда': 1, 'Ведение клиентской базы': 1, 'Мониторинг рынка': 1, 'Анализ конкурентной среды': 1, 'Анализ торговой марки': 1, 'Развитие продаж': 1, 'MS Word': 1, 'Отличное знание ПК': 1, 'Базовые знания 1С': 1, 'Аналитический склад ума': 1, 'Анализ': 1, 'Microsoft Access': 1, 'Ведение деловой переписки': 1, 'Power Point': 1, 'Rational Rose': 1, 'AllFusion Process Modeler': 1, 'MS Front Page': 1, 'Elasticsearch': 1, 'Яндекс.Метрика': 1, 'Компенсации и льготы': 1, 'Офисные программы': 1, '1С: Зарплата и кадры': 1, 'Методы машинного обучения': 1, 'R-language': 1, 'LTV': 1, 'Data Warehouse': 1, 'Опытный пользователь ПК': 1, '1C: Предприятие': 1, 'M': 1, 'Ведение переговоров': 1, 'Достижение результата': 1, 'Способность к систематизации': 1, 'FMCG': 1, 'HDFS': 1, 'Программы лояльности для клиентов': 1, 'Internet': 1, 'Работа со СМИ': 1, 'Бюджетирование': 1, 'roistat': 1, 'Экономическое моделирование': 1, 'Java': 1, 'Внимательность': 1, 'Знание и понимание принципов прогнозирования': 1, 'Умение анализировать и интерпретировать данные': 1, 'Маркетплейсы': 1, 'Jira': 1, 'Future Store': 1, 'Business Planning': 1, 'Qlick Sense': 1, 'DAMA DMBOK': 1, 'PostgeSQL': 1, 'Elastic Search': 1, 'Lucene': 1, 'Logstash': 1, 'Kafka': 1, 'BigData': 1, 'SOAP': 1, 'Функциональное тестирование': 1, 'Логистика': 1, 'Документальное сопровождение': 1, 'Big Datа': 1, 'платформа': 1, 'менеджер продукта': 1, 'Анализ ценообразования': 1, 'WEB аналитика': 1, 'REST': 1, 'Scikit-learn': 1, 'SciPy': 1, 'Уверенный пользователь ПК': 1, 'Spotfire': 1, 'JavaScript': 1, 'HTML': 1, 'CSS': 1, 'MSSQL': 1, 'Оптимизация запросов': 1, 'B2C продажи': 1, 'DataLens': 1, 'Высокая скорость печати': 1, 'Владение Power BI': 1, 'MS Office (Word, Excel, PowerPoint)': 1, 'Алгоритмы': 1, 'SAP Business Objects': 1, 'SVN': 1, 'MVP': 1, 'менеджер проекта': 1, 'Критическое мышление': 1, 'нормативно-техническая документация': 1, 'Бизнес-требования': 1, 'Налогообложение': 1, 'Мобильный маркетинг': 1, 'ASO': 1, 'AppStore': 1, 'Трафик': 1, 'А/Б тестирование': 1, 'ASOMobile': 1, 'Appfollow': 1, 'Управление товарными запасами': 1, 'Умение работать с большим количеством информации': 1, 'Производственная логистика': 1, '1C ERP': 1, 'Планирование': 1, 'GreenPlam': 1, 'Автоматизация': 1, 'Анализ поведения пользователей': 1, 'С#': 1, 'Оптимизация налогообложения': 1, 'ТЦО': 1, 'Airflow': 1, 'Внутренние коммуникации': 1, 'Работа в режиме многозадачности': 1, 'Техническое задание': 1, 'Внутренний финансовый аудит': 1, 'Составление презентаций': 1, 'Написание инструкций': 1, 'QlikView': 1, 'Маркетинговая аналитика': 1, 'IBM SPSS': 1, 'Социологические исследования': 1, 'Object Storage': 1, 'NOSQL системы': 1, 'data lake': 1, 'Stata': 1, 'NLP': 1, 'Коммуникативная стратегия': 1, 'Оценка потребностей клиентов': 1, 'E-Commerce': 1, 'количественные исследования': 1, 'Финансовая отчетность': 1, 'JSON': 1, 'Проектирование пользовательских интерфейсов': 1, 'Проведение тестирований': 1, 'MDX': 1, 'MongoDB': 1, 'МДМ': 1, 'MDM': 1, 'Мастер данные': 1, 'Master data management': 1, 'QlikSense': 1, 'Superset': 1, 'Витрины данных': 1, 'Написание маппингов': 1, 'Databases': 1, 'GreenPlum': 1, 'PostgeeSQL': 1, 'Diasoft': 1, 'кредитные карты': 1, 'дебетовые карты': 1, 'Управление портфелем': 1, 'Финансовое моделирование': 1, 'навыки статистической обработки данных': 1, 'Казначейство': 1, 'хранилище данных': 1, 'Бухгалтерский учет': 1, 'АБС': 1, 'Business intelligence': 1, 'Numpy': 1, 'Управление требованиями': 1, 'Базовые знания SQL': 1, 'Моделирование предметной области': 1, 'IBM Cognos': 1, 'DataStage': 1, 'ElasticSearch': 1, 'Анализ бизнес-процессов': 1, 'data design': 1, 'Greenplam/Arenadata': 1, 'логическая модель': 1, 'физическая модель': 1, 'внешние данные': 1, 'Эконометрика': 1, 'Удаленная работа': 1, 'Google таблицы': 1, 'Стратегическое мышление': 1, 'Agile Project Management': 1, 'Умение планировать': 1, 'Партнерский маркетинг': 1, 'Коммуникация': 1, 'СРА сети': 1, 'Информационная безопасность': 1, 'SIEM': 1, 'Аудит безопасности': 1, 'Hive': 1, 'SCALA': 1, 'JS': 1, 'Работа с банками': 1, 'Salesforce': 1, 'Управление отношениями с клиентами': 1}) Counter({'Python': 123, 'SQL': 83, 'ML': 46, 'Machine Learning': 36, 'Data Science': 29, 'Spark': 29, 'Hadoop': 25, 'Big Data': 23, 'Математическая статистика': 20, 'NLP': 18, 'Pandas': 16, 'Машинное обучение': 13, 'Data Analysis': 13, 'Анализ данных': 11, 'Английский язык': 11, 'Linux': 11, 'Git': 11, 'Статистический анализ': 10, 'PyTorch': 10, 'Математическое моделирование': 9, 'Docker': 9, 'Tensorflow': 9, 'Hive': 9, 'Numpy': 7, 'machine learning': 7, 'ClickHouse': 7, 'docker': 7, 'MS SQL': 7, 'pytorch': 7, 'sklearn': 7, 'Deep Learning': 6, 'PostgreSQL': 6, 'Грамотная речь': 6, 'Контроль и анализ ценообразования': 6, 'Machine learning': 6, 'web security': 6, 'Data Mining': 5, 'C++': 5, 'Алгоритмы': 5, 'Bash': 5, 'Моделирование': 4, 'Прогнозирование': 4, 'R': 4, 'Computer Vision': 4, 'SCALA': 4, 'алгоритмы': 3, 'Аналитические исследования': 3, 'ORACLE': 3, 'data science': 3, 'Разработка поисковых технологий': 3, 'IT': 3, 'Mathematical Statistics': 3, 'MS PowerPoint': 3, 'кредитные риски': 3, 'A/B тесты': 3, 'XGBoost': 3, 'Sas': 3, 'Java': 3, 'Математический анализ': 3, 'Airflow': 3, 'AWS': 2, 'MongoDB': 2, 'MATLAB': 2, 'Оценка рисков': 2, 'Управление рисками': 2, 'PD, LGD, EAD': 2, 'Портфельные риски': 2, 'Data Scientis': 2, 'Анализ рисков': 2, 'Statistics': 2, 'Работа с банками': 2, 'Clickhouse': 2, 'DS': 2, 'Теория вероятностей': 2, 'ETL': 2, 'Работа с большим объемом информации': 2, 'машинное обучение': 2, 'computer vision': 2, 'Pytorch': 2, 'Лидерство': 2, 'deep learning': 2, 'RabbitMQ': 2, 'Kafka': 2, 'Сomputer Vision': 2, 'Валидация моделей': 1, 'Модельный риск': 1, 'Базы данных': 1, 'PyCharm': 1, 'Ответственный подход к работе': 1, 'Обучение и развитие': 1, 'SPSS': 1, 'Statistica': 1, 'Маркетинговый анализ': 1, 'Анализ бизнес показателей': 1, 'Методы машинного обучения': 1, 'R-language': 1, 'airflow': 1, 'нейросети': 1, 'Keras': 1, 'OpenCV': 1, 'Sklearn': 1, 'Object Detection': 1, 'rust': 1, 'Cassandra': 1, 'уровень знаний': 1, 'самостоятельное проведение исследований': 1, 'большие данные': 1, 'искусственный интеллект': 1, 'нейронные сети': 1, 'цифровые двойники': 1, 'Cyber Security': 1, 'Confluence': 1, 'Удаленная работа': 1, 'Jira': 1, 'Нейросети': 1, 'GAN': 1, 'Time Series': 1, 'Риск-менеджмент': 1, 'Анализ финансовых показателей': 1, 'модели оценки кредитных рисков': 1, 'моделирование PD': 1, 'оценка прогнозируемого кредитного риска': 1, 'Модель вероятности дефолта': 1, 'EAD': 1, 'BCBS': 1, 'LGD': 1, 'ПВР': 1, 'Data Scientist': 1, 'RND': 1, 'Нейронные сети': 1, 'Power BI': 1, 'DAX': 1, 'Digital Marketing': 1, 'LTV': 1, 'CPC': 1, 'Pbi': 1, 'Google Analytics': 1, 'Яндекс.Метрика': 1, 'Бюджетирование': 1, 'Подготовка презентаций': 1, 'MS Excel': 1, 'Финансовый анализ': 1, 'hadoop': 1, 'Медицинское оборудование': 1, 'Написание научный статей': 1, 'Научная деятельность': 1, 'Научные исследования': 1, 'Умение работать с большими объемами данных': 1, 'Расчет провизий': 1, 'скоринговая модель': 1, 'Gurob': 1, 'Cplex': 1, 'CBC': 1, 'SCIP': 1, 'Face Detection': 1, 'Face Analyze': 1, 'pandas': 1, 'RecSys': 1, 'Elasticsearch': 1, 'С++': 1, 'SciPy': 1, 'Word2vec': 1, 'Xgboost': 1, 'Jupyter Notebook': 1, 'MLOps': 1, 'NymPy': 1, 'NoSQL': 1, 'API': 1, 'Natural language processing': 1, 'Computer vision': 1, 'Apache Spark': 1, 'Reinforcement Learning': 1, 'Multi-Armed Bandits': 1, 'Adtech': 1, 'CLTV': 1, 'Tableau': 1, 'Аналитическое мышление': 1, 'Библиотеки: Statsmodels CatBoost GLM': 1, 'СУБДД: MS SQL PostgreSQL Oracle': 1, 'Apache Airflow': 1, 'MLflow': 1, 'Time Series Analysis': 1, 'NLTK': 1, 'Pymorphy2': 1, 'TensorFlow': 1, 'GPT': 1, 'Miner': 1, 'Teradata': 1, 'Teambuilding': 1, 'Кредитный скоринг': 1, 'PowerBI': 1, 'Atlassian Jira': 1, 'Data sciense': 1, 'Analysis': 1, 'Статистика': 1, 'Data science': 1, 'Go': 1, 'Torch': 1, 'CatBoost': 1, 'GreenPlum': 1, 'Redis': 1, 'OpenSearch': 1, 'K8s': 1, 'ArgoCD': 1, 'Helm': 1, 'AirFlow': 1, 'SuperSet': 1, 'ML-Flow': 1, 'Git-Lab': 1, 'ELK': 1, 'Grafana': 1, 'Prometheus': 1, 'Matplotlib': 1, 'Seaborn': 1, 'Word2Vec': 1}) Counter({'Python': 246, 'SQL': 220, 'ETL': 123, 'Hadoop': 113, 'Spark': 89, 'DWH': 82, 'PostgreSQL': 61, 'Big Data': 45, 'Kafka': 39, 'Java': 39, 'Базы данных': 39, 'Airflow': 38, 'SCALA': 37, 'ClickHouse': 33, 'Linux': 32, 'MS SQL': 32, 'Git': 30, 'Работа с базами данных': 28, 'Hive': 28, 'Docker': 26, 'СУБД': 23, 'Greenplum': 22, 'ORACLE': 20, 'Pandas': 16, 'NoSQL': 16, 'ML': 14, 'AirFlow': 13, 'Clickhouse': 13, 'Английский язык': 13, 'Kubernetes': 12, 'Data Analysis': 11, 'Oracle Pl/SQL': 11, 'CI/CD': 11, 'ООП': 10, 'Databases': 10, 'Numpy': 9, 'Bash': 9, 'PySpark': 9, 'Power BI': 8, 'Data Engineer': 8, 'Анализ данных': 8, 'GreenPlum': 8, 'MS SQL Server': 7, 'Apache Airflow': 7, 'Machine Learning': 7, 'MySQL': 7, 'BI': 7, 'Vertica': 7, 'Prometheus': 7, 'Cassandra': 7, 'PyTorch': 6, 'AWS': 6, 'Аналитическое мышление': 6, 'Grafana': 6, 'C/C++': 6, 'SSIS': 6, 'Apache Kafka': 5, 'C++': 5, 'NiFi': 5, 'Tableau': 5, 'Ansible': 5, 'MLOps': 5, 'Математическое моделирование': 5, 'Redis': 5, 'hadoop': 5, 'MongoDB': 4, 'Sklearn': 4, 'Хранилище данных': 4, 'Data Science': 4, 'Deep Learning': 4, 'Teradata': 4, 'Data Vault': 4, 'API': 4, 'Data lake': 4, 'airflow': 4, 'PostgresSQL': 4, 'CRM': 4, 'ERP': 4, 'Data Engineering': 4, 'Finagle': 4, 'NLP': 3, 'Машинное обучение': 3, 'Groovy': 3, 'BigQuery': 3, 'Matplotlib': 3, 'Computer Vision': 3, 'Tensorflow': 3, 'Алгоритмы и структуры данных': 3, 'Работа в условиях многозадачности': 3, 'Elasticsearch': 3, 'Работа с большим объемом информации': 3, 'Оптимизация запросов': 3, 'Helm': 3, 'Yandex Cloud': 3, 'Математический анализ': 3, 'Go': 3, 'Архитектура БД': 3, 'MPP': 3, 'Engineering': 3, 'Data modeling': 3, 'VCS': 3, 'Luigi': 3, 'Pytest': 2, 'Apache NiFi': 2, 'Управление проектами': 2, 'Статистический анализ': 2, 'PostrgeSQL': 2, 'PL/SQL': 2, 'Nifi': 2, 'Cистемы управления базами данных': 2, 'Zabbix': 2, 'DevOps': 2, 'Feature store': 2, 'витрины данных': 2, 'QlikView': 2, 'Dagster': 2, 'Удаленная работа': 2, 'Hypersonic Sql': 2, 'data engineering': 2, 'Algorithms': 2, 'Data Structures': 2, 'multithreading': 2, 'Django': 2, 'Transact-SQL': 2, 'MLFlow': 2, 'S3': 2, 'Научные исследования': 2, 'k8s': 2, 'Apache Spark': 2, 'Keras': 2, 'Azure': 2, 'Java SE': 2, 'Аналитика': 2, 'teradata': 2, 'Jenkins': 2, 'Java/Scala': 2, 'kafka': 2, 'grafana': 2, 'Gitlab': 2, 'POSIX API': 2, 'ODI': 2, 'ETL/ELT': 2, 'DataLens': 2, 'ELK': 2, 'dwh': 2, 'golang': 2, 'REST': 2, 'Data Mining': 2, 'DataLake': 2, 'RabbitMQ': 2, 'MLops': 1, 'GRPC': 1, 'Oracle BI': 1, 'Нагрузочное тестирование': 1, 'Data science': 1, 'PowerBI': 1, 'Microsoft Access': 1, 'Точность и внимательность к деталям': 1, 'Статистика': 1, 'ЦОД': 1, 'Cisco': 1, 'Postgres': 1, 'Informatica': 1, 'Cyber Security': 1, 'kubernetes': 1, 'Jira': 1, 'greenplum': 1, 'качественные исследования': 1, 'data engineer': 1, 'Unix': 1, 'База данных: Oracle': 1, 'SAP': 1, 'DEI': 1, 'Проектная деятельность': 1, 'Умение организовывать работу, планировать': 1, 'Excel': 1, 'Database Management': 1, 'R, RStudio': 1, 'Grenplum': 1, 'RStudio': 1, 'MS PowerPoint': 1, 'Обучение и развитие': 1, 'GitlabCI': 1, 'Data Vault 2.0': 1, 'Scrum': 1, 'ПК': 1, 'Работа в команде': 1, 'Геологическая разведка и интерпретация данных': 1, 'Нефтегаз': 1, 'DataOps': 1, 'Prefect': 1, 'Great Expectations': 1, 'Kubeflow': 1, 'DVC': 1, 'Flink': 1, 'Citus': 1, 'REST API': 1, 'GraphQL': 1, 'Ni-Fi': 1, 'Data': 1, 'Allure': 1, 'Selenium': 1, 'Aquas': 1, 'Базовые знания SQL': 1, 'Математическая статистика': 1, 'Навыки работы с большим объемом информации': 1, '1C: Финансы': 1, 'Профессиональный пользователь ПК': 1, 'Аналитические навыки': 1, 'Коммуникабельность, ответственность': 1, 'Ответственность и пунктуальность': 1, 'Высокая ответственность': 1, 'Медицинское оборудование': 1, 'Написание научный статей': 1, 'Научная деятельность': 1, 'MS Excel': 1, 'Автоматизация подготовки данных': 1, 'Алгоритмы': 1, 'Confluence': 1, 'Gitlab-Ci': 1, 'Nginx': 1, 'Aerospike': 1, 'KAFKA': 1, 'KSQLDB': 1, 'Column-oriented': 1, 'graph-oriented': 1, 'Olap (online analytical processing)': 1, 'База данных: Olap': 1, 'OLAP': 1, 'CUDA': 1, 'Scipy': 1, 'scikit-learn': 1, 'TensorFlow': 1, 'MLflow': 1, 'Sensor fusion': 1, 'sklearn': 1, 'Хранение и обработка данных': 1, 'IT': 1, 'JVM': 1, 'Spring Framework': 1, 'С#': 1, 'Умение работать в условиях многозадачности': 1, 'Коммуникативные навыки': 1, 'GraphDB': 1, 'dbt': 1, 'VBA': 1, 'Informatica PowerCenter': 1, 'MSSQL': 1, 'Oracle DB': 1, 'XML': 1, 'JSON API': 1, 'Rest API': 1, 'Парсинг': 1, 'Ответственное хранение': 1, 'Data Mining: Statistica': 1, 'MS Power BI': 1, 'Oracle CRM': 1, 'Analytical skills': 1, 'English': 1, 'Разработка нового продукта': 1, 'Docker-compose': 1, 'NymPy': 1, 'A/B тесты': 1, 'Gitlab CI': 1, 'SSRS': 1, 'Atlassian Jira': 1, 'Atlassian Confluence': 1, 'ML OPS': 1, 'Аналитические исследования': 1, 'SLA': 1, 'Ignite': 1, 'data warehouse': 1, 'GCP (Google Cloud Platform)': 1, 'Snowflake': 1, 'ELT': 1, 'Google Cloud': 1, 'Redshift': 1, 'Spark, Kafka': 1, 'OpenVetaData': 1, 'DataHUB': 1, 'Spark airflow': 1, 'ElasticSearch': 1, 'Предиктивная аналитика': 1, 'Iron Python': 1, 'Impala': 1, 'Visiology': 1, 'QL middle+': 1, 'DataFlow': 1, '1С': 1, 'MS Visio': 1, 'Kanban': 1, 'разработчик': 1, 'инженер данных': 1, 'дата-инженер': 1, 'data-инженер': 1, 'RDBMS': 1, 'Cloud': 1, 'Математический склад ума': 1, 'Большие данные': 1, 'Presto': 1, 'КХД': 1, 'SAP Business Objects': 1, 'Визуализация данных': 1, 'Yandex.Cloud': 1, 'Microsoft Azure Databricks': 1, 'Теория вероятностей': 1, 'Django Framework': 1, 'Jupyter Notebook': 1, 'Yandex Cloud Platform': 1, 'NIFI': 1, 'TypeScript': 1, 'принимать решения и за их результаты отвечать самостоятельно': 1, 'Torch': 1, 'CatBoost': 1, 'OpenSearch': 1, 'K8s': 1, 'ArgoCD': 1, 'SuperSet': 1, 'ML-Flow': 1, 'Git-Lab': 1, 'Data Centre': 1, 'NetApp': 1, 'EMC/DELL': 1, 'HP 3par': 1, 'EVA': 1, 'MSA': 1, 'Tape Libraries': 1, 'Windows Server 2008': 1, 'Windows Server 2012': 1, 'Server Rooms': 1, 'ITSM': 1, 'Incident Management': 1, 'Asset Management': 1, 'Request Management': 1, 'Business Continuity Management': 1, 'Disaster Recovery': 1, 'Opentext': 1, 'TCP/IP': 1, 'ISO 270001/2': 1, 'COBIT': 1, 'ITIL': 1, 'ISO 9001': 1, 'CDCP': 1, 'Google Cloud Platform': 1, 'MDM': 1, 'Data Quality': 1, 'Spark streaming': 1, 'DevTools': 1, 'Swagger': 1, 'Multithread Programming': 1, 'Обучение': 1, 'Подготовка презентаций': 1, 'Навыки презентации': 1, 'Создание презентационных материалов о компании': 1, 'BI-системы': 1})\n"
     ]
    }
   ],
   "source": [
    "# Извлечение всех навыков и подсчет их упоминаний\n",
    "lst_temp = []\n",
    "for i in range(len(Full_vacs_AD_op1)):\n",
    "    lst_temp.extend(Full_vacs_AD_op1.iloc[i])\n",
    "for i in range(len(lst_temp)):\n",
    "    lst_temp[i] = lst_temp[i]['name']\n",
    "count_skills_AD = Counter(lst_temp)\n",
    "\n",
    "lst_temp = []\n",
    "for i in range(len(Full_vacs_DS_op1)):\n",
    "    lst_temp.extend(Full_vacs_DS_op1.iloc[i])\n",
    "for i in range(len(lst_temp)):\n",
    "    lst_temp[i] = lst_temp[i]['name']\n",
    "count_skills_DS = Counter(lst_temp)\n",
    "\n",
    "lst_temp = []\n",
    "for i in range(len(Full_vacs_DE_op1)):\n",
    "    lst_temp.extend(Full_vacs_DE_op1.iloc[i])\n",
    "for i in range(len(lst_temp)):\n",
    "    lst_temp[i] = lst_temp[i]['name']\n",
    "count_skills_DE = Counter(lst_temp)\n",
    "print(count_skills_AD, count_skills_DS, count_skills_DE)"
   ]
  },
  {
   "cell_type": "code",
   "execution_count": 94,
   "metadata": {},
   "outputs": [
    {
     "name": "stdout",
     "output_type": "stream",
     "text": [
      "SQL                                    179\n",
      "Python                                 118\n",
      "Анализ данных                           97\n",
      "Аналитическое мышление                  85\n",
      "Power BI                                47\n",
      "MS SQL                                  43\n",
      "Базы данных                             43\n",
      "MS Excel                                43\n",
      "Работа с большим объемом информации     39\n",
      "Математическая статистика               28\n",
      "dtype: int64\n",
      "Python                       123\n",
      "SQL                           83\n",
      "ML                            46\n",
      "Machine Learning              36\n",
      "Spark                         29\n",
      "Data Science                  29\n",
      "Hadoop                        25\n",
      "Big Data                      23\n",
      "Математическая статистика     20\n",
      "NLP                           18\n",
      "dtype: int64\n",
      "Python         246\n",
      "SQL            220\n",
      "ETL            123\n",
      "Hadoop         113\n",
      "Spark           89\n",
      "DWH             82\n",
      "PostgreSQL      61\n",
      "Big Data        45\n",
      "Java            39\n",
      "Базы данных     39\n",
      "dtype: int64\n"
     ]
    }
   ],
   "source": [
    "count_skills_AD = pd.Series(count_skills_AD).sort_values(ascending=False).head(10)\n",
    "count_skills_DS = pd.Series(count_skills_DS).sort_values(ascending=False).head(10)\n",
    "count_skills_DE = pd.Series(count_skills_DE).sort_values(ascending=False).head(10)\n",
    "\n",
    "print(count_skills_AD, count_skills_DS, count_skills_DE, sep='\\n')"
   ]
  },
  {
   "cell_type": "code",
   "execution_count": 95,
   "metadata": {},
   "outputs": [
    {
     "name": "stdout",
     "output_type": "stream",
     "text": [
      "Самый востребованный навык для Аналитика данных: SQL\n",
      "Самый востребованный навык для Data Science: Python\n",
      "Самый востребованный навык для Data Engineer: Python\n"
     ]
    }
   ],
   "source": [
    "# Определите по полю с ключевыми навыками, \n",
    "# какие навыки больше всего востребованы для найденных вакансий\n",
    "\n",
    "print(f'Самый востребованный навык для Аналитика данных: {count_skills_AD.idxmax()}')\n",
    "print(f'Самый востребованный навык для Data Science: {count_skills_DS.idxmax()}')\n",
    "print(f'Самый востребованный навык для Data Engineer: {count_skills_DE.idxmax()}')"
   ]
  },
  {
   "cell_type": "code",
   "execution_count": 96,
   "metadata": {},
   "outputs": [
    {
     "data": {
      "image/png": "[encoded data removed]",
      "text/plain": [
       "<Figure size 640x480 with 1 Axes>"
      ]
     },
     "metadata": {},
     "output_type": "display_data"
    }
   ],
   "source": [
    "# Постройте график наиболее востребованных навыков\n",
    "labels = count_skills_AD.index[0:7]\n",
    "share = count_skills_AD.iloc[0:7]\n",
    "explode = (0.1, 0, 0, 0, 0,0,0)\n",
    "plt.style.use('ggplot')\n",
    "plt.title('Самые востребованные навыки для Аналитика данных')\n",
    "plt.pie(x = share, labels=labels, autopct='%.2f%%', explode=explode)\n",
    "plt.show()\n"
   ]
  },
  {
   "cell_type": "code",
   "execution_count": 97,
   "metadata": {},
   "outputs": [
    {
     "data": {
      "image/png": "[encoded data removed]",
      "text/plain": [
       "<Figure size 640x480 with 1 Axes>"
      ]
     },
     "metadata": {},
     "output_type": "display_data"
    }
   ],
   "source": [
    "\n",
    "labels = count_skills_DS.index[0:7]\n",
    "share = count_skills_DS.iloc[0:7]\n",
    "explode = (0.1, 0, 0, 0, 0,0,0)\n",
    "plt.style.use('ggplot')\n",
    "plt.title('Самые востребованные навыки для Data Science')\n",
    "plt.pie(x = share, labels=labels, autopct='%.2f%%', explode=explode)\n",
    "plt.show()"
   ]
  },
  {
   "cell_type": "code",
   "execution_count": 98,
   "metadata": {},
   "outputs": [
    {
     "data": {
      "image/png": "[encoded data removed]",
      "text/plain": [
       "<Figure size 640x480 with 1 Axes>"
      ]
     },
     "metadata": {},
     "output_type": "display_data"
    }
   ],
   "source": [
    "\n",
    "labels = count_skills_DE.index[0:7]\n",
    "share = count_skills_DE.iloc[0:7]\n",
    "explode = (0.1, 0, 0, 0, 0,0,0)\n",
    "plt.style.use('ggplot')\n",
    "plt.title('Самые востребованные навыки для Data Engineer')\n",
    "plt.pie(x = share, labels=labels, autopct='%.2f%%', explode=explode)\n",
    "plt.show()"
   ]
  },
  {
   "cell_type": "code",
   "execution_count": null,
   "metadata": {},
   "outputs": [],
   "source": []
  }
 ],
 "metadata": {
  "kernelspec": {
   "display_name": "Python 3",
   "language": "python",
   "name": "python3"
  },
  "language_info": {
   "codemirror_mode": {
    "name": "ipython",
    "version": 3
   },
   "file_extension": ".py",
   "mimetype": "text/x-python",
   "name": "python",
   "nbconvert_exporter": "python",
   "pygments_lexer": "ipython3",
   "version": "3.7.6"
  }
 },
 "nbformat": 4,
 "nbformat_minor": 4
}
